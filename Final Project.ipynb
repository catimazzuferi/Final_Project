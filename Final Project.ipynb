{
 "cells": [
  {
   "cell_type": "markdown",
   "id": "5eec42e0",
   "metadata": {},
   "source": [
    "# Import data"
   ]
  },
  {
   "cell_type": "markdown",
   "id": "8b365816",
   "metadata": {},
   "source": [
    "Importing the required libraries"
   ]
  },
  {
   "cell_type": "code",
   "execution_count": 1,
   "id": "f26b6e7f",
   "metadata": {},
   "outputs": [],
   "source": [
    "import pandas as pd\n",
    "import seaborn as sns\n",
    "import matplotlib.pyplot as plt\n",
    "import numpy as np\n",
    "from sklearn.preprocessing import MinMaxScaler \n",
    "from sklearn.preprocessing import StandardScaler\n",
    "from sklearn.model_selection import train_test_split\n",
    "from sklearn.preprocessing import OneHotEncoder\n",
    "import requests\n",
    "import pickle\n",
    "from sklearn.metrics import r2_score\n",
    "from sklearn.linear_model import LinearRegression\n",
    "from sklearn.neighbors import KNeighborsRegressor\n",
    "from sklearn.neural_network import MLPRegressor\n",
    "from sklearn.tree import DecisionTreeRegressor\n",
    "from sklearn.ensemble import RandomForestRegressor\n",
    "from sklearn import linear_model"
   ]
  },
  {
   "cell_type": "markdown",
   "id": "f98ff8db",
   "metadata": {},
   "source": [
    "Loading the dataset from the 'Data.csv' file using the pandas read_csv function"
   ]
  },
  {
   "cell_type": "code",
   "execution_count": 2,
   "id": "bad71b68",
   "metadata": {},
   "outputs": [],
   "source": [
    "data = pd.read_csv('Data.csv')"
   ]
  },
  {
   "cell_type": "markdown",
   "id": "21296e14",
   "metadata": {},
   "source": [
    "# EDA"
   ]
  },
  {
   "cell_type": "markdown",
   "id": "4ce1ca83",
   "metadata": {},
   "source": [
    "Check head, shape and info; Checking the dimensions of the dataset (number of rows and columns) and displaying the first few rows to get an overview of the data."
   ]
  },
  {
   "cell_type": "code",
   "execution_count": 3,
   "id": "36071328",
   "metadata": {},
   "outputs": [
    {
     "data": {
      "text/plain": [
       "(39981, 14)"
      ]
     },
     "metadata": {},
     "output_type": "display_data"
    },
    {
     "data": {
      "text/html": [
       "<div>\n",
       "<style scoped>\n",
       "    .dataframe tbody tr th:only-of-type {\n",
       "        vertical-align: middle;\n",
       "    }\n",
       "\n",
       "    .dataframe tbody tr th {\n",
       "        vertical-align: top;\n",
       "    }\n",
       "\n",
       "    .dataframe thead th {\n",
       "        text-align: right;\n",
       "    }\n",
       "</style>\n",
       "<table border=\"1\" class=\"dataframe\">\n",
       "  <thead>\n",
       "    <tr style=\"text-align: right;\">\n",
       "      <th></th>\n",
       "      <th>Zip Code</th>\n",
       "      <th>Price</th>\n",
       "      <th>Beds</th>\n",
       "      <th>Baths</th>\n",
       "      <th>Living Space</th>\n",
       "      <th>Address</th>\n",
       "      <th>City</th>\n",
       "      <th>State</th>\n",
       "      <th>Zip Code Population</th>\n",
       "      <th>Zip Code Density</th>\n",
       "      <th>County</th>\n",
       "      <th>Median Household Income</th>\n",
       "      <th>Latitude</th>\n",
       "      <th>Longitude</th>\n",
       "    </tr>\n",
       "  </thead>\n",
       "  <tbody>\n",
       "    <tr>\n",
       "      <th>0</th>\n",
       "      <td>10013</td>\n",
       "      <td>3999000.0</td>\n",
       "      <td>2</td>\n",
       "      <td>3</td>\n",
       "      <td>1967</td>\n",
       "      <td>74 GRAND ST APT 3</td>\n",
       "      <td>New York</td>\n",
       "      <td>New York</td>\n",
       "      <td>29563</td>\n",
       "      <td>20967.9</td>\n",
       "      <td>New York</td>\n",
       "      <td>370046.0</td>\n",
       "      <td>40.72001</td>\n",
       "      <td>-74.00472</td>\n",
       "    </tr>\n",
       "    <tr>\n",
       "      <th>1</th>\n",
       "      <td>10013</td>\n",
       "      <td>3999000.0</td>\n",
       "      <td>2</td>\n",
       "      <td>3</td>\n",
       "      <td>1967</td>\n",
       "      <td>74 GRAND ST APT 3</td>\n",
       "      <td>New York</td>\n",
       "      <td>New York</td>\n",
       "      <td>29563</td>\n",
       "      <td>20967.9</td>\n",
       "      <td>New York</td>\n",
       "      <td>370046.0</td>\n",
       "      <td>40.72001</td>\n",
       "      <td>-74.00472</td>\n",
       "    </tr>\n",
       "    <tr>\n",
       "      <th>2</th>\n",
       "      <td>10014</td>\n",
       "      <td>1650000.0</td>\n",
       "      <td>1</td>\n",
       "      <td>1</td>\n",
       "      <td>718</td>\n",
       "      <td>140 CHARLES ST APT 4D</td>\n",
       "      <td>New York</td>\n",
       "      <td>New York</td>\n",
       "      <td>29815</td>\n",
       "      <td>23740.9</td>\n",
       "      <td>New York</td>\n",
       "      <td>249880.0</td>\n",
       "      <td>40.73407</td>\n",
       "      <td>-74.00601</td>\n",
       "    </tr>\n",
       "    <tr>\n",
       "      <th>3</th>\n",
       "      <td>10014</td>\n",
       "      <td>760000.0</td>\n",
       "      <td>3</td>\n",
       "      <td>2</td>\n",
       "      <td>1538</td>\n",
       "      <td>38 JONES ST</td>\n",
       "      <td>New York</td>\n",
       "      <td>New York</td>\n",
       "      <td>29815</td>\n",
       "      <td>23740.9</td>\n",
       "      <td>New York</td>\n",
       "      <td>249880.0</td>\n",
       "      <td>40.73407</td>\n",
       "      <td>-74.00601</td>\n",
       "    </tr>\n",
       "    <tr>\n",
       "      <th>4</th>\n",
       "      <td>10014</td>\n",
       "      <td>1100000.0</td>\n",
       "      <td>1</td>\n",
       "      <td>1</td>\n",
       "      <td>600</td>\n",
       "      <td>81 BEDFORD ST APT 3F</td>\n",
       "      <td>New York</td>\n",
       "      <td>New York</td>\n",
       "      <td>29815</td>\n",
       "      <td>23740.9</td>\n",
       "      <td>New York</td>\n",
       "      <td>249880.0</td>\n",
       "      <td>40.73407</td>\n",
       "      <td>-74.00601</td>\n",
       "    </tr>\n",
       "  </tbody>\n",
       "</table>\n",
       "</div>"
      ],
      "text/plain": [
       "   Zip Code      Price  Beds  Baths  Living Space                Address  \\\n",
       "0     10013  3999000.0     2      3          1967      74 GRAND ST APT 3   \n",
       "1     10013  3999000.0     2      3          1967      74 GRAND ST APT 3   \n",
       "2     10014  1650000.0     1      1           718  140 CHARLES ST APT 4D   \n",
       "3     10014   760000.0     3      2          1538            38 JONES ST   \n",
       "4     10014  1100000.0     1      1           600   81 BEDFORD ST APT 3F   \n",
       "\n",
       "       City     State  Zip Code Population  Zip Code Density    County  \\\n",
       "0  New York  New York                29563           20967.9  New York   \n",
       "1  New York  New York                29563           20967.9  New York   \n",
       "2  New York  New York                29815           23740.9  New York   \n",
       "3  New York  New York                29815           23740.9  New York   \n",
       "4  New York  New York                29815           23740.9  New York   \n",
       "\n",
       "   Median Household Income  Latitude  Longitude  \n",
       "0                 370046.0  40.72001  -74.00472  \n",
       "1                 370046.0  40.72001  -74.00472  \n",
       "2                 249880.0  40.73407  -74.00601  \n",
       "3                 249880.0  40.73407  -74.00601  \n",
       "4                 249880.0  40.73407  -74.00601  "
      ]
     },
     "execution_count": 3,
     "metadata": {},
     "output_type": "execute_result"
    }
   ],
   "source": [
    "display(data.shape)\n",
    "data.head()"
   ]
  },
  {
   "cell_type": "markdown",
   "id": "ebaba969",
   "metadata": {},
   "source": [
    "# Cleaning Data"
   ]
  },
  {
   "cell_type": "markdown",
   "id": "5eafe261",
   "metadata": {},
   "source": [
    "Check Nan Values"
   ]
  },
  {
   "cell_type": "code",
   "execution_count": 4,
   "id": "f0bf1f84",
   "metadata": {},
   "outputs": [
    {
     "data": {
      "text/plain": [
       "Zip Code                   0\n",
       "Price                      0\n",
       "Beds                       0\n",
       "Baths                      0\n",
       "Living Space               0\n",
       "Address                    0\n",
       "City                       0\n",
       "State                      0\n",
       "Zip Code Population        0\n",
       "Zip Code Density           0\n",
       "County                     0\n",
       "Median Household Income    2\n",
       "Latitude                   0\n",
       "Longitude                  0\n",
       "dtype: int64"
      ]
     },
     "execution_count": 4,
     "metadata": {},
     "output_type": "execute_result"
    }
   ],
   "source": [
    "data.isnull().sum()"
   ]
  },
  {
   "cell_type": "code",
   "execution_count": 5,
   "id": "8e1f25df",
   "metadata": {},
   "outputs": [
    {
     "data": {
      "text/html": [
       "<div>\n",
       "<style scoped>\n",
       "    .dataframe tbody tr th:only-of-type {\n",
       "        vertical-align: middle;\n",
       "    }\n",
       "\n",
       "    .dataframe tbody tr th {\n",
       "        vertical-align: top;\n",
       "    }\n",
       "\n",
       "    .dataframe thead th {\n",
       "        text-align: right;\n",
       "    }\n",
       "</style>\n",
       "<table border=\"1\" class=\"dataframe\">\n",
       "  <thead>\n",
       "    <tr style=\"text-align: right;\">\n",
       "      <th></th>\n",
       "      <th>Zip Code</th>\n",
       "      <th>Price</th>\n",
       "      <th>Beds</th>\n",
       "      <th>Baths</th>\n",
       "      <th>Living Space</th>\n",
       "      <th>Address</th>\n",
       "      <th>City</th>\n",
       "      <th>State</th>\n",
       "      <th>Zip Code Population</th>\n",
       "      <th>Zip Code Density</th>\n",
       "      <th>County</th>\n",
       "      <th>Median Household Income</th>\n",
       "      <th>Latitude</th>\n",
       "      <th>Longitude</th>\n",
       "    </tr>\n",
       "  </thead>\n",
       "  <tbody>\n",
       "    <tr>\n",
       "      <th>27785</th>\n",
       "      <td>80939</td>\n",
       "      <td>460000.0</td>\n",
       "      <td>3</td>\n",
       "      <td>3</td>\n",
       "      <td>1444</td>\n",
       "      <td>3124 LOOT DR</td>\n",
       "      <td>Colorado Springs</td>\n",
       "      <td>Colorado</td>\n",
       "      <td>0</td>\n",
       "      <td>0.0</td>\n",
       "      <td>El Paso</td>\n",
       "      <td>NaN</td>\n",
       "      <td>38.87772</td>\n",
       "      <td>-104.67742</td>\n",
       "    </tr>\n",
       "    <tr>\n",
       "      <th>27786</th>\n",
       "      <td>80939</td>\n",
       "      <td>565000.0</td>\n",
       "      <td>6</td>\n",
       "      <td>4</td>\n",
       "      <td>3064</td>\n",
       "      <td>2418 TEMPEST DR</td>\n",
       "      <td>Colorado Springs</td>\n",
       "      <td>Colorado</td>\n",
       "      <td>0</td>\n",
       "      <td>0.0</td>\n",
       "      <td>El Paso</td>\n",
       "      <td>NaN</td>\n",
       "      <td>38.87772</td>\n",
       "      <td>-104.67742</td>\n",
       "    </tr>\n",
       "  </tbody>\n",
       "</table>\n",
       "</div>"
      ],
      "text/plain": [
       "       Zip Code     Price  Beds  Baths  Living Space          Address  \\\n",
       "27785     80939  460000.0     3      3          1444     3124 LOOT DR   \n",
       "27786     80939  565000.0     6      4          3064  2418 TEMPEST DR   \n",
       "\n",
       "                   City     State  Zip Code Population  Zip Code Density  \\\n",
       "27785  Colorado Springs  Colorado                    0               0.0   \n",
       "27786  Colorado Springs  Colorado                    0               0.0   \n",
       "\n",
       "        County  Median Household Income  Latitude  Longitude  \n",
       "27785  El Paso                      NaN  38.87772 -104.67742  \n",
       "27786  El Paso                      NaN  38.87772 -104.67742  "
      ]
     },
     "execution_count": 5,
     "metadata": {},
     "output_type": "execute_result"
    }
   ],
   "source": [
    "data[data.isnull().any(axis=1)]"
   ]
  },
  {
   "cell_type": "markdown",
   "id": "cbca30c8",
   "metadata": {},
   "source": [
    " Removing rows containing missing values in the 'Median Household Income' column because I dont think it is necessary to fil nan."
   ]
  },
  {
   "cell_type": "code",
   "execution_count": 6,
   "id": "191d4c76",
   "metadata": {},
   "outputs": [],
   "source": [
    "data = data.dropna()"
   ]
  },
  {
   "cell_type": "code",
   "execution_count": 7,
   "id": "f4da3dc3",
   "metadata": {},
   "outputs": [
    {
     "data": {
      "text/plain": [
       "Zip Code                   0\n",
       "Price                      0\n",
       "Beds                       0\n",
       "Baths                      0\n",
       "Living Space               0\n",
       "Address                    0\n",
       "City                       0\n",
       "State                      0\n",
       "Zip Code Population        0\n",
       "Zip Code Density           0\n",
       "County                     0\n",
       "Median Household Income    0\n",
       "Latitude                   0\n",
       "Longitude                  0\n",
       "dtype: int64"
      ]
     },
     "execution_count": 7,
     "metadata": {},
     "output_type": "execute_result"
    }
   ],
   "source": [
    "data.isnull().sum()"
   ]
  },
  {
   "cell_type": "markdown",
   "id": "21280afd",
   "metadata": {},
   "source": [
    "Rename the columns so they follow the PE8 (snake case) (lower_case_with_underscores)"
   ]
  },
  {
   "cell_type": "code",
   "execution_count": 8,
   "id": "a223314e",
   "metadata": {},
   "outputs": [
    {
     "data": {
      "text/plain": [
       "Index(['Zip Code', 'Price', 'Beds', 'Baths', 'Living Space', 'Address', 'City',\n",
       "       'State', 'Zip Code Population', 'Zip Code Density', 'County',\n",
       "       'Median Household Income', 'Latitude', 'Longitude'],\n",
       "      dtype='object')"
      ]
     },
     "execution_count": 8,
     "metadata": {},
     "output_type": "execute_result"
    }
   ],
   "source": [
    "data.columns"
   ]
  },
  {
   "cell_type": "code",
   "execution_count": 9,
   "id": "8b22609f",
   "metadata": {},
   "outputs": [],
   "source": [
    "data.columns = data.columns.str.lower().str.replace(' ','_')"
   ]
  },
  {
   "cell_type": "code",
   "execution_count": 10,
   "id": "2415232d",
   "metadata": {},
   "outputs": [
    {
     "data": {
      "text/plain": [
       "Index(['zip_code', 'price', 'beds', 'baths', 'living_space', 'address', 'city',\n",
       "       'state', 'zip_code_population', 'zip_code_density', 'county',\n",
       "       'median_household_income', 'latitude', 'longitude'],\n",
       "      dtype='object')"
      ]
     },
     "execution_count": 10,
     "metadata": {},
     "output_type": "execute_result"
    }
   ],
   "source": [
    "data.columns"
   ]
  },
  {
   "cell_type": "markdown",
   "id": "52a51d84",
   "metadata": {},
   "source": [
    "Check duplicates"
   ]
  },
  {
   "cell_type": "code",
   "execution_count": 11,
   "id": "935194c1",
   "metadata": {},
   "outputs": [
    {
     "data": {
      "text/plain": [
       "False    39017\n",
       "True       962\n",
       "dtype: int64"
      ]
     },
     "execution_count": 11,
     "metadata": {},
     "output_type": "execute_result"
    }
   ],
   "source": [
    "duplicates = data.duplicated()\n",
    "duplicates.value_counts()"
   ]
  },
  {
   "cell_type": "markdown",
   "id": "27c0cd82",
   "metadata": {},
   "source": [
    "Here I elimineted the duplicates using drop and then reset the index"
   ]
  },
  {
   "cell_type": "code",
   "execution_count": 12,
   "id": "a33cf391",
   "metadata": {},
   "outputs": [
    {
     "data": {
      "text/plain": [
       "0        False\n",
       "1        False\n",
       "2        False\n",
       "3        False\n",
       "4        False\n",
       "         ...  \n",
       "39012    False\n",
       "39013    False\n",
       "39014    False\n",
       "39015    False\n",
       "39016    False\n",
       "Length: 39017, dtype: bool"
      ]
     },
     "execution_count": 12,
     "metadata": {},
     "output_type": "execute_result"
    }
   ],
   "source": [
    "data = data.drop_duplicates()\n",
    "data = data.reset_index(drop=True)\n",
    "data.duplicated()"
   ]
  },
  {
   "cell_type": "markdown",
   "id": "d5e0efed",
   "metadata": {},
   "source": [
    "# Wrangling Data"
   ]
  },
  {
   "cell_type": "markdown",
   "id": "31e0858f",
   "metadata": {},
   "source": [
    "Check unique values of columns"
   ]
  },
  {
   "cell_type": "code",
   "execution_count": 13,
   "id": "75e9331c",
   "metadata": {},
   "outputs": [],
   "source": [
    "def value_count(df):\n",
    "    for columns in df:\n",
    "        print(len(df[columns].value_counts()),columns)\n",
    "    return"
   ]
  },
  {
   "cell_type": "markdown",
   "id": "0b963d3b",
   "metadata": {},
   "source": [
    "Counting and displaying the number of unique values for each column, providing insights into the diversity of the data."
   ]
  },
  {
   "cell_type": "code",
   "execution_count": 14,
   "id": "c447d455",
   "metadata": {},
   "outputs": [
    {
     "name": "stdout",
     "output_type": "stream",
     "text": [
      "1732 zip_code\n",
      "5196 price\n",
      "31 beds\n",
      "28 baths\n",
      "4623 living_space\n",
      "38825 address\n",
      "243 city\n",
      "29 state\n",
      "1711 zip_code_population\n",
      "1705 zip_code_density\n",
      "88 county\n",
      "1722 median_household_income\n",
      "1732 latitude\n",
      "1732 longitude\n"
     ]
    }
   ],
   "source": [
    "value_count(data)"
   ]
  },
  {
   "cell_type": "markdown",
   "id": "8db1e283",
   "metadata": {},
   "source": [
    "Check data types"
   ]
  },
  {
   "cell_type": "code",
   "execution_count": 15,
   "id": "d2a90763",
   "metadata": {},
   "outputs": [
    {
     "data": {
      "text/plain": [
       "zip_code                     int64\n",
       "price                      float64\n",
       "beds                         int64\n",
       "baths                        int64\n",
       "living_space                 int64\n",
       "address                     object\n",
       "city                        object\n",
       "state                       object\n",
       "zip_code_population          int64\n",
       "zip_code_density           float64\n",
       "county                      object\n",
       "median_household_income    float64\n",
       "latitude                   float64\n",
       "longitude                  float64\n",
       "dtype: object"
      ]
     },
     "execution_count": 15,
     "metadata": {},
     "output_type": "execute_result"
    }
   ],
   "source": [
    "data.dtypes"
   ]
  },
  {
   "cell_type": "markdown",
   "id": "49e67522",
   "metadata": {},
   "source": [
    "Checking unique values"
   ]
  },
  {
   "cell_type": "code",
   "execution_count": 16,
   "id": "9fd24de3",
   "metadata": {},
   "outputs": [
    {
     "data": {
      "text/plain": [
       "2     16396\n",
       "3     10602\n",
       "1      6725\n",
       "4      3485\n",
       "5      1059\n",
       "6       418\n",
       "7       166\n",
       "8        74\n",
       "9        31\n",
       "10       16\n",
       "11        9\n",
       "12        8\n",
       "14        4\n",
       "15        3\n",
       "16        3\n",
       "18        3\n",
       "20        3\n",
       "17        2\n",
       "28        1\n",
       "66        1\n",
       "21        1\n",
       "24        1\n",
       "36        1\n",
       "19        1\n",
       "37        1\n",
       "42        1\n",
       "46        1\n",
       "56        1\n",
       "Name: baths, dtype: int64"
      ]
     },
     "execution_count": 16,
     "metadata": {},
     "output_type": "execute_result"
    }
   ],
   "source": [
    "data['baths'].unique()  \n",
    "data['baths'].value_counts()"
   ]
  },
  {
   "cell_type": "markdown",
   "id": "07ab32eb",
   "metadata": {},
   "source": [
    "Drop the values with almost none repetition, because there is a lot of difference between the unique values."
   ]
  },
  {
   "cell_type": "code",
   "execution_count": 17,
   "id": "4451e954",
   "metadata": {},
   "outputs": [],
   "source": [
    "baths_counts = data['baths'].value_counts()\n",
    "data = data[data['baths'].isin(baths_counts.index[baths_counts > 9])]\n"
   ]
  },
  {
   "cell_type": "code",
   "execution_count": 18,
   "id": "ccf2be91",
   "metadata": {},
   "outputs": [
    {
     "data": {
      "text/plain": [
       "3     16420\n",
       "4      9358\n",
       "2      7629\n",
       "5      2638\n",
       "1      2080\n",
       "6       573\n",
       "7       148\n",
       "8        72\n",
       "10       14\n",
       "12       14\n",
       "9        12\n",
       "11        6\n",
       "14        3\n",
       "16        2\n",
       "24        1\n",
       "22        1\n",
       "13        1\n",
       "Name: beds, dtype: int64"
      ]
     },
     "execution_count": 18,
     "metadata": {},
     "output_type": "execute_result"
    }
   ],
   "source": [
    "data['beds'].unique()  \n",
    "data['beds'].value_counts()"
   ]
  },
  {
   "cell_type": "code",
   "execution_count": 19,
   "id": "1c27dd98",
   "metadata": {},
   "outputs": [],
   "source": [
    "beds_counts = data['beds'].value_counts()\n",
    "data = data[data['beds'].isin(beds_counts.index[beds_counts > 9])]\n"
   ]
  },
  {
   "cell_type": "markdown",
   "id": "ebf38dc3",
   "metadata": {},
   "source": [
    "Reduce Zip Code and city Variability\n",
    "Due to the wide variety of Zip Codes and cities, we aim to enhance model performance by keeping the top 10 and grouping the rest into 'Other'."
   ]
  },
  {
   "cell_type": "code",
   "execution_count": 20,
   "id": "c59073cb",
   "metadata": {},
   "outputs": [],
   "source": [
    "data['zip_code'].unique()  \n",
    "zip_code_counts = data['zip_code'].value_counts()\n",
    "top_10_zip_codes = zip_code_counts.head(10).index\n",
    "data['zip_code'] = data['zip_code'].apply(lambda x: x if x in top_10_zip_codes else 'Other')"
   ]
  },
  {
   "cell_type": "code",
   "execution_count": 21,
   "id": "1810be5c",
   "metadata": {},
   "outputs": [],
   "source": [
    "data['city'].unique()  \n",
    "city_counts = data['city'].value_counts()\n",
    "top_10_city_codes = city_counts.head(10).index\n",
    "data['city'] = data['city'].apply(lambda x: x if x in top_10_city_codes else 'Other')"
   ]
  },
  {
   "cell_type": "code",
   "execution_count": 22,
   "id": "ebcedb43",
   "metadata": {},
   "outputs": [
    {
     "data": {
      "text/plain": [
       "Other    37405\n",
       "79928      193\n",
       "23456      190\n",
       "93727      174\n",
       "27610      156\n",
       "85212      152\n",
       "23451      143\n",
       "76179      141\n",
       "79938      141\n",
       "20002      136\n",
       "78253      127\n",
       "Name: zip_code, dtype: int64"
      ]
     },
     "execution_count": 22,
     "metadata": {},
     "output_type": "execute_result"
    }
   ],
   "source": [
    "data['zip_code'].value_counts()"
   ]
  },
  {
   "cell_type": "code",
   "execution_count": 23,
   "id": "92e60183",
   "metadata": {},
   "outputs": [],
   "source": [
    "data['zip_code'] = data['zip_code'].astype('object')"
   ]
  },
  {
   "cell_type": "code",
   "execution_count": 24,
   "id": "12d61ea9",
   "metadata": {},
   "outputs": [
    {
     "data": {
      "text/plain": [
       "zip_code                    object\n",
       "price                      float64\n",
       "beds                         int64\n",
       "baths                        int64\n",
       "living_space                 int64\n",
       "address                     object\n",
       "city                        object\n",
       "state                       object\n",
       "zip_code_population          int64\n",
       "zip_code_density           float64\n",
       "county                      object\n",
       "median_household_income    float64\n",
       "latitude                   float64\n",
       "longitude                  float64\n",
       "dtype: object"
      ]
     },
     "execution_count": 24,
     "metadata": {},
     "output_type": "execute_result"
    }
   ],
   "source": [
    "data.dtypes"
   ]
  },
  {
   "cell_type": "code",
   "execution_count": 25,
   "id": "d13f72af",
   "metadata": {},
   "outputs": [],
   "source": [
    "data['city'].unique()  \n",
    "city_counts = data['city'].value_counts()"
   ]
  },
  {
   "cell_type": "markdown",
   "id": "1e834bf9",
   "metadata": {},
   "source": [
    "Generating a list of unique cities present in the DataFrame."
   ]
  },
  {
   "cell_type": "code",
   "execution_count": 26,
   "id": "547c9a64",
   "metadata": {},
   "outputs": [
    {
     "name": "stdout",
     "output_type": "stream",
     "text": [
      "['Other', 'Mesa', 'Charlotte', 'Virginia Beach', 'Denver', 'Albuquerque', 'Louisville', 'Raleigh', 'Dallas', 'Indianapolis', 'San Antonio']\n"
     ]
    }
   ],
   "source": [
    "unique_cities = city_counts.index.tolist()\n",
    "print(unique_cities)"
   ]
  },
  {
   "cell_type": "markdown",
   "id": "bd1b7f6e",
   "metadata": {},
   "source": [
    "# Separate numerical and categorical data\n"
   ]
  },
  {
   "cell_type": "markdown",
   "id": "6d318a6f",
   "metadata": {},
   "source": [
    "Dividing the dataset into two subsets - one containing numerical columns and the other containing categorical columns.\n"
   ]
  },
  {
   "cell_type": "code",
   "execution_count": 27,
   "id": "9b013655",
   "metadata": {
    "scrolled": true
   },
   "outputs": [
    {
     "name": "stdout",
     "output_type": "stream",
     "text": [
      "      zip_code                 address   city       state    county\n",
      "0        Other       74 GRAND ST APT 3  Other    New York  New York\n",
      "1        Other   140 CHARLES ST APT 4D  Other    New York  New York\n",
      "2        Other             38 JONES ST  Other    New York  New York\n",
      "3        Other    81 BEDFORD ST APT 3F  Other    New York  New York\n",
      "4        Other   145 E 48TH ST APT 11E  Other    New York  New York\n",
      "...        ...                     ...    ...         ...       ...\n",
      "39012    Other         2626 27TH AVE W  Other  Washington      King\n",
      "39013    Other         3215 32ND AVE W  Other  Washington      King\n",
      "39014    Other         3257 22ND AVE W  Other  Washington      King\n",
      "39015    Other  3711 26TH PL W APT 102  Other  Washington      King\n",
      "39016    Other         2911 25TH AVE W  Other  Washington      King\n",
      "\n",
      "[38958 rows x 5 columns]\n",
      "           price  beds  baths  living_space  zip_code_population  \\\n",
      "0      3999000.0     2      3          1967                29563   \n",
      "1      1650000.0     1      1           718                29815   \n",
      "2       760000.0     3      2          1538                29815   \n",
      "3      1100000.0     1      1           600                29815   \n",
      "4       764900.0     1      1           643                15514   \n",
      "...          ...   ...    ...           ...                  ...   \n",
      "39012  2495000.0     4      4          3380                22890   \n",
      "39013  2295000.0     4      4          2878                22890   \n",
      "39014   950000.0     3      2          1380                22890   \n",
      "39015   425000.0     2      1           856                22890   \n",
      "39016  1150000.0     3      3          2840                22890   \n",
      "\n",
      "       zip_code_density  median_household_income  latitude  longitude  \n",
      "0               20967.9                 370046.0  40.72001  -74.00472  \n",
      "1               23740.9                 249880.0  40.73407  -74.00601  \n",
      "2               23740.9                 249880.0  40.73407  -74.00601  \n",
      "3               23740.9                 249880.0  40.73407  -74.00601  \n",
      "4               20107.7                 188289.0  40.75235  -73.97260  \n",
      "...                 ...                      ...       ...        ...  \n",
      "39012            2086.8                 205611.0  47.65139 -122.40223  \n",
      "39013            2086.8                 205611.0  47.65139 -122.40223  \n",
      "39014            2086.8                 205611.0  47.65139 -122.40223  \n",
      "39015            2086.8                 205611.0  47.65139 -122.40223  \n",
      "39016            2086.8                 205611.0  47.65139 -122.40223  \n",
      "\n",
      "[38958 rows x 9 columns]\n"
     ]
    }
   ],
   "source": [
    "categorical = data.select_dtypes(include=object)\n",
    "numerical = data.select_dtypes(include=np.number)\n",
    "print(categorical)\n",
    "print(numerical)"
   ]
  },
  {
   "cell_type": "markdown",
   "id": "5d2f56bf",
   "metadata": {},
   "source": [
    "Begin with Numerical Data"
   ]
  },
  {
   "cell_type": "code",
   "execution_count": 28,
   "id": "0b68a34d",
   "metadata": {},
   "outputs": [
    {
     "data": {
      "text/plain": [
       "['beds', 'baths']"
      ]
     },
     "metadata": {},
     "output_type": "display_data"
    },
    {
     "data": {
      "text/plain": [
       "['price',\n",
       " 'living_space',\n",
       " 'zip_code_population',\n",
       " 'zip_code_density',\n",
       " 'median_household_income',\n",
       " 'latitude',\n",
       " 'longitude']"
      ]
     },
     "metadata": {},
     "output_type": "display_data"
    }
   ],
   "source": [
    "discrete_lst = []\n",
    "continuous_lst = []\n",
    "for col in numerical.columns:\n",
    "    if len(data[col].unique()) < (data.shape[0] * 0.04):\n",
    "        discrete_lst.append(col)\n",
    "    else:\n",
    "        continuous_lst.append(col)\n",
    "display(discrete_lst)\n",
    "display(continuous_lst)"
   ]
  },
  {
   "cell_type": "markdown",
   "id": "c5b62af0",
   "metadata": {},
   "source": [
    "Create a function to differentiate between discrete and continuous variables"
   ]
  },
  {
   "cell_type": "code",
   "execution_count": 29,
   "id": "92d21226",
   "metadata": {},
   "outputs": [],
   "source": [
    "def discrete_continuous(df):\n",
    "    discrete_lst = []\n",
    "    continuous_lst = []\n",
    "    for col in df.columns:\n",
    "        if len(df[col].unique()) < (df.shape[0] * 0.02):\n",
    "            discrete_lst.append(col)\n",
    "        else:\n",
    "            continuous_lst.append(col)\n",
    "    return (discrete_lst, continuous_lst)\n",
    "    "
   ]
  },
  {
   "cell_type": "code",
   "execution_count": 30,
   "id": "f2a7a1b2",
   "metadata": {},
   "outputs": [],
   "source": [
    "discrete_lst, continuous_lst = discrete_continuous(numerical)"
   ]
  },
  {
   "cell_type": "code",
   "execution_count": 31,
   "id": "ecab0abe",
   "metadata": {},
   "outputs": [
    {
     "name": "stdout",
     "output_type": "stream",
     "text": [
      "['beds', 'baths']\n",
      "['price', 'living_space', 'zip_code_population', 'zip_code_density', 'median_household_income', 'latitude', 'longitude']\n"
     ]
    }
   ],
   "source": [
    "print(discrete_lst)\n",
    "print(continuous_lst)"
   ]
  },
  {
   "cell_type": "markdown",
   "id": "154277c4",
   "metadata": {},
   "source": [
    "Plot a correlation matrix"
   ]
  },
  {
   "cell_type": "code",
   "execution_count": 32,
   "id": "a584c519",
   "metadata": {},
   "outputs": [
    {
     "data": {
      "text/html": [
       "<div>\n",
       "<style scoped>\n",
       "    .dataframe tbody tr th:only-of-type {\n",
       "        vertical-align: middle;\n",
       "    }\n",
       "\n",
       "    .dataframe tbody tr th {\n",
       "        vertical-align: top;\n",
       "    }\n",
       "\n",
       "    .dataframe thead th {\n",
       "        text-align: right;\n",
       "    }\n",
       "</style>\n",
       "<table border=\"1\" class=\"dataframe\">\n",
       "  <thead>\n",
       "    <tr style=\"text-align: right;\">\n",
       "      <th></th>\n",
       "      <th>price</th>\n",
       "      <th>beds</th>\n",
       "      <th>baths</th>\n",
       "      <th>living_space</th>\n",
       "      <th>zip_code_population</th>\n",
       "      <th>zip_code_density</th>\n",
       "      <th>median_household_income</th>\n",
       "      <th>latitude</th>\n",
       "      <th>longitude</th>\n",
       "    </tr>\n",
       "  </thead>\n",
       "  <tbody>\n",
       "    <tr>\n",
       "      <th>price</th>\n",
       "      <td>1.000000</td>\n",
       "      <td>0.267676</td>\n",
       "      <td>0.488528</td>\n",
       "      <td>0.514454</td>\n",
       "      <td>-0.045923</td>\n",
       "      <td>0.154601</td>\n",
       "      <td>0.428918</td>\n",
       "      <td>-0.059171</td>\n",
       "      <td>-0.170911</td>\n",
       "    </tr>\n",
       "    <tr>\n",
       "      <th>beds</th>\n",
       "      <td>0.267676</td>\n",
       "      <td>1.000000</td>\n",
       "      <td>0.628764</td>\n",
       "      <td>0.617225</td>\n",
       "      <td>0.073508</td>\n",
       "      <td>-0.175243</td>\n",
       "      <td>0.024640</td>\n",
       "      <td>-0.053359</td>\n",
       "      <td>0.026766</td>\n",
       "    </tr>\n",
       "    <tr>\n",
       "      <th>baths</th>\n",
       "      <td>0.488528</td>\n",
       "      <td>0.628764</td>\n",
       "      <td>1.000000</td>\n",
       "      <td>0.744056</td>\n",
       "      <td>-0.004127</td>\n",
       "      <td>-0.094632</td>\n",
       "      <td>0.274433</td>\n",
       "      <td>-0.111520</td>\n",
       "      <td>0.015773</td>\n",
       "    </tr>\n",
       "    <tr>\n",
       "      <th>living_space</th>\n",
       "      <td>0.514454</td>\n",
       "      <td>0.617225</td>\n",
       "      <td>0.744056</td>\n",
       "      <td>1.000000</td>\n",
       "      <td>-0.051910</td>\n",
       "      <td>-0.122091</td>\n",
       "      <td>0.242413</td>\n",
       "      <td>-0.059931</td>\n",
       "      <td>-0.001609</td>\n",
       "    </tr>\n",
       "    <tr>\n",
       "      <th>zip_code_population</th>\n",
       "      <td>-0.045923</td>\n",
       "      <td>0.073508</td>\n",
       "      <td>-0.004127</td>\n",
       "      <td>-0.051910</td>\n",
       "      <td>1.000000</td>\n",
       "      <td>0.106745</td>\n",
       "      <td>-0.122743</td>\n",
       "      <td>-0.088150</td>\n",
       "      <td>-0.018763</td>\n",
       "    </tr>\n",
       "    <tr>\n",
       "      <th>zip_code_density</th>\n",
       "      <td>0.154601</td>\n",
       "      <td>-0.175243</td>\n",
       "      <td>-0.094632</td>\n",
       "      <td>-0.122091</td>\n",
       "      <td>0.106745</td>\n",
       "      <td>1.000000</td>\n",
       "      <td>0.179370</td>\n",
       "      <td>0.181435</td>\n",
       "      <td>0.018117</td>\n",
       "    </tr>\n",
       "    <tr>\n",
       "      <th>median_household_income</th>\n",
       "      <td>0.428918</td>\n",
       "      <td>0.024640</td>\n",
       "      <td>0.274433</td>\n",
       "      <td>0.242413</td>\n",
       "      <td>-0.122743</td>\n",
       "      <td>0.179370</td>\n",
       "      <td>1.000000</td>\n",
       "      <td>0.045569</td>\n",
       "      <td>-0.228002</td>\n",
       "    </tr>\n",
       "    <tr>\n",
       "      <th>latitude</th>\n",
       "      <td>-0.059171</td>\n",
       "      <td>-0.053359</td>\n",
       "      <td>-0.111520</td>\n",
       "      <td>-0.059931</td>\n",
       "      <td>-0.088150</td>\n",
       "      <td>0.181435</td>\n",
       "      <td>0.045569</td>\n",
       "      <td>1.000000</td>\n",
       "      <td>-0.041504</td>\n",
       "    </tr>\n",
       "    <tr>\n",
       "      <th>longitude</th>\n",
       "      <td>-0.170911</td>\n",
       "      <td>0.026766</td>\n",
       "      <td>0.015773</td>\n",
       "      <td>-0.001609</td>\n",
       "      <td>-0.018763</td>\n",
       "      <td>0.018117</td>\n",
       "      <td>-0.228002</td>\n",
       "      <td>-0.041504</td>\n",
       "      <td>1.000000</td>\n",
       "    </tr>\n",
       "  </tbody>\n",
       "</table>\n",
       "</div>"
      ],
      "text/plain": [
       "                            price      beds     baths  living_space  \\\n",
       "price                    1.000000  0.267676  0.488528      0.514454   \n",
       "beds                     0.267676  1.000000  0.628764      0.617225   \n",
       "baths                    0.488528  0.628764  1.000000      0.744056   \n",
       "living_space             0.514454  0.617225  0.744056      1.000000   \n",
       "zip_code_population     -0.045923  0.073508 -0.004127     -0.051910   \n",
       "zip_code_density         0.154601 -0.175243 -0.094632     -0.122091   \n",
       "median_household_income  0.428918  0.024640  0.274433      0.242413   \n",
       "latitude                -0.059171 -0.053359 -0.111520     -0.059931   \n",
       "longitude               -0.170911  0.026766  0.015773     -0.001609   \n",
       "\n",
       "                         zip_code_population  zip_code_density  \\\n",
       "price                              -0.045923          0.154601   \n",
       "beds                                0.073508         -0.175243   \n",
       "baths                              -0.004127         -0.094632   \n",
       "living_space                       -0.051910         -0.122091   \n",
       "zip_code_population                 1.000000          0.106745   \n",
       "zip_code_density                    0.106745          1.000000   \n",
       "median_household_income            -0.122743          0.179370   \n",
       "latitude                           -0.088150          0.181435   \n",
       "longitude                          -0.018763          0.018117   \n",
       "\n",
       "                         median_household_income  latitude  longitude  \n",
       "price                                   0.428918 -0.059171  -0.170911  \n",
       "beds                                    0.024640 -0.053359   0.026766  \n",
       "baths                                   0.274433 -0.111520   0.015773  \n",
       "living_space                            0.242413 -0.059931  -0.001609  \n",
       "zip_code_population                    -0.122743 -0.088150  -0.018763  \n",
       "zip_code_density                        0.179370  0.181435   0.018117  \n",
       "median_household_income                 1.000000  0.045569  -0.228002  \n",
       "latitude                                0.045569  1.000000  -0.041504  \n",
       "longitude                              -0.228002 -0.041504   1.000000  "
      ]
     },
     "execution_count": 32,
     "metadata": {},
     "output_type": "execute_result"
    }
   ],
   "source": [
    "correlations_matrix = numerical.corr()\n",
    "correlations_matrix"
   ]
  },
  {
   "cell_type": "markdown",
   "id": "cd0107f1",
   "metadata": {},
   "source": [
    "Creating a heatmap to visualize the correlation matrix, showing relationships between numerical variables."
   ]
  },
  {
   "cell_type": "code",
   "execution_count": 33,
   "id": "6fc8358e",
   "metadata": {},
   "outputs": [
    {
     "data": {
      "image/png": "[encoded data removed]",
      "text/plain": [
       "<Figure size 640x480 with 2 Axes>"
      ]
     },
     "metadata": {},
     "output_type": "display_data"
    }
   ],
   "source": [
    "sns.heatmap(correlations_matrix, annot=True)\n",
    "plt.show()"
   ]
  },
  {
   "cell_type": "markdown",
   "id": "47b00717",
   "metadata": {},
   "source": [
    "Plot distributions for discrete variables\n",
    "Generating distribution plots for discrete numerical variables to understand their data distribution.\n"
   ]
  },
  {
   "cell_type": "code",
   "execution_count": 34,
   "id": "4f90fa0b",
   "metadata": {},
   "outputs": [
    {
     "name": "stderr",
     "output_type": "stream",
     "text": [
      "/var/folders/d9/_ctzl6l91nb3xf6zfxnk4py80000gn/T/ipykernel_27419/113429703.py:2: UserWarning: \n",
      "\n",
      "`distplot` is a deprecated function and will be removed in seaborn v0.14.0.\n",
      "\n",
      "Please adapt your code to use either `displot` (a figure-level function with\n",
      "similar flexibility) or `histplot` (an axes-level function for histograms).\n",
      "\n",
      "For a guide to updating your code to use the new functions, please see\n",
      "https://gist.github.com/mwaskom/de44147ed2974457ad6372750bbe5751\n",
      "\n",
      "  sns.distplot(numerical[column])\n"
     ]
    },
    {
     "data": {
      "image/png": "[encoded data removed]",
      "text/plain": [
       "<Figure size 640x480 with 1 Axes>"
      ]
     },
     "metadata": {},
     "output_type": "display_data"
    },
    {
     "name": "stderr",
     "output_type": "stream",
     "text": [
      "/var/folders/d9/_ctzl6l91nb3xf6zfxnk4py80000gn/T/ipykernel_27419/113429703.py:2: UserWarning: \n",
      "\n",
      "`distplot` is a deprecated function and will be removed in seaborn v0.14.0.\n",
      "\n",
      "Please adapt your code to use either `displot` (a figure-level function with\n",
      "similar flexibility) or `histplot` (an axes-level function for histograms).\n",
      "\n",
      "For a guide to updating your code to use the new functions, please see\n",
      "https://gist.github.com/mwaskom/de44147ed2974457ad6372750bbe5751\n",
      "\n",
      "  sns.distplot(numerical[column])\n"
     ]
    },
    {
     "data": {
      "image/png": "[encoded data removed]",
      "text/plain": [
       "<Figure size 640x480 with 1 Axes>"
      ]
     },
     "metadata": {},
     "output_type": "display_data"
    }
   ],
   "source": [
    "for column in numerical[discrete_lst]:\n",
    "    sns.distplot(numerical[column])\n",
    "    plt.show()"
   ]
  },
  {
   "cell_type": "markdown",
   "id": "650e3137",
   "metadata": {},
   "source": [
    "Plot distributions for continuous variables\n",
    "Creating histogram plots for continuous numerical variables to visualize their data distribution."
   ]
  },
  {
   "cell_type": "code",
   "execution_count": 35,
   "id": "9d7dce4d",
   "metadata": {},
   "outputs": [
    {
     "data": {
      "image/png": "[encoded data removed]",
      "text/plain": [
       "<Figure size 640x480 with 1 Axes>"
      ]
     },
     "metadata": {},
     "output_type": "display_data"
    },
    {
     "data": {
      "image/png": "[encoded data removed]",
      "text/plain": [
       "<Figure size 640x480 with 1 Axes>"
      ]
     },
     "metadata": {},
     "output_type": "display_data"
    },
    {
     "data": {
      "image/png": "[encoded data removed]",
      "text/plain": [
       "<Figure size 640x480 with 1 Axes>"
      ]
     },
     "metadata": {},
     "output_type": "display_data"
    },
    {
     "data": {
      "image/png": "[encoded data removed]",
      "text/plain": [
       "<Figure size 640x480 with 1 Axes>"
      ]
     },
     "metadata": {},
     "output_type": "display_data"
    },
    {
     "data": {
      "image/png": "[encoded data removed]",
      "text/plain": [
       "<Figure size 640x480 with 1 Axes>"
      ]
     },
     "metadata": {},
     "output_type": "display_data"
    },
    {
     "data": {
      "image/png": "[encoded data removed]",
      "text/plain": [
       "<Figure size 640x480 with 1 Axes>"
      ]
     },
     "metadata": {},
     "output_type": "display_data"
    },
    {
     "data": {
      "image/png": "[encoded data removed]",
      "text/plain": [
       "<Figure size 640x480 with 1 Axes>"
      ]
     },
     "metadata": {},
     "output_type": "display_data"
    }
   ],
   "source": [
    "for column in numerical[continuous_lst]:\n",
    "    sns.histplot(numerical[column])\n",
    "    plt.show()"
   ]
  },
  {
   "cell_type": "markdown",
   "id": "3df3f450",
   "metadata": {},
   "source": [
    "Check for outliers in continuous variables\n",
    "Using boxplots to identify potential outliers in continuous numerical variables."
   ]
  },
  {
   "cell_type": "code",
   "execution_count": 36,
   "id": "6ffe9399",
   "metadata": {},
   "outputs": [
    {
     "data": {
      "image/png": "[encoded data removed]",
      "text/plain": [
       "<Figure size 640x480 with 1 Axes>"
      ]
     },
     "metadata": {},
     "output_type": "display_data"
    },
    {
     "data": {
      "image/png": "[encoded data removed]",
      "text/plain": [
       "<Figure size 640x480 with 1 Axes>"
      ]
     },
     "metadata": {},
     "output_type": "display_data"
    },
    {
     "data": {
      "image/png": "[encoded data removed]",
      "text/plain": [
       "<Figure size 640x480 with 1 Axes>"
      ]
     },
     "metadata": {},
     "output_type": "display_data"
    },
    {
     "data": {
      "image/png": "[encoded data removed]",
      "text/plain": [
       "<Figure size 640x480 with 1 Axes>"
      ]
     },
     "metadata": {},
     "output_type": "display_data"
    },
    {
     "data": {
      "image/png": "[encoded data removed]",
      "text/plain": [
       "<Figure size 640x480 with 1 Axes>"
      ]
     },
     "metadata": {},
     "output_type": "display_data"
    },
    {
     "data": {
      "image/png": "[encoded data removed]",
      "text/plain": [
       "<Figure size 640x480 with 1 Axes>"
      ]
     },
     "metadata": {},
     "output_type": "display_data"
    },
    {
     "data": {
      "image/png": "[encoded data removed]",
      "text/plain": [
       "<Figure size 640x480 with 1 Axes>"
      ]
     },
     "metadata": {},
     "output_type": "display_data"
    }
   ],
   "source": [
    "for column in numerical[continuous_lst]:\n",
    "    sns.boxplot(numerical[column])\n",
    "    plt.show()"
   ]
  },
  {
   "cell_type": "markdown",
   "id": "ac75530e",
   "metadata": {},
   "source": [
    "Handle outliers in 'price' and 'living_space'\n",
    "Applying outlier handling techniques specifically to the 'price' and 'living_space' columns.\n"
   ]
  },
  {
   "cell_type": "code",
   "execution_count": 37,
   "id": "0c0f03b4",
   "metadata": {},
   "outputs": [
    {
     "name": "stdout",
     "output_type": "stream",
     "text": [
      "Number of possible Outliers: 3488\n"
     ]
    }
   ],
   "source": [
    "# Calculate the IQR\n",
    "iqr = np.nanpercentile(data['price'], 75) - np.nanpercentile(data['price'], 25)\n",
    "\n",
    "# Calculate the upper limit for outliers\n",
    "upper_limit = np.nanpercentile(data['price'], 75) + 1.5 * iqr\n",
    "\n",
    "# Check for outliers\n",
    "outliers = data[data['price'] > upper_limit]\n",
    "\n",
    "# Calculate the number of outliers\n",
    "count_outer_75 = len(outliers)\n",
    "\n",
    "print(\"Number of possible Outliers:\", count_outer_75)"
   ]
  },
  {
   "cell_type": "code",
   "execution_count": 38,
   "id": "2c8a5c90",
   "metadata": {},
   "outputs": [
    {
     "name": "stdout",
     "output_type": "stream",
     "text": [
      "Number of possible Outliers: 1872\n"
     ]
    }
   ],
   "source": [
    "iqr = np.nanpercentile(data['living_space'], 75) - np.nanpercentile(data['living_space'], 25)\n",
    "upper_limit = np.nanpercentile(data['living_space'], 75) + 1.5 * iqr\n",
    "outliers = data[data['living_space'] > upper_limit]\n",
    "count_outer_75 = len(outliers)\n",
    "print(\"Number of possible Outliers:\", count_outer_75)"
   ]
  },
  {
   "cell_type": "markdown",
   "id": "c243e5cd",
   "metadata": {},
   "source": [
    "It's also essential to note that we cannot exclude any values from our target dataset."
   ]
  },
  {
   "cell_type": "code",
   "execution_count": 39,
   "id": "5e8ac31e",
   "metadata": {},
   "outputs": [
    {
     "data": {
      "text/plain": [
       "1060     74340\n",
       "30023    33000\n",
       "5704     18930\n",
       "Name: living_space, dtype: int64"
      ]
     },
     "execution_count": 39,
     "metadata": {},
     "output_type": "execute_result"
    }
   ],
   "source": [
    "outliers = data['living_space'].nlargest(3)\n",
    "outliers"
   ]
  },
  {
   "cell_type": "code",
   "execution_count": 40,
   "id": "24619958",
   "metadata": {},
   "outputs": [],
   "source": [
    "indices_outliers = data['living_space'].nlargest(3).index"
   ]
  },
  {
   "cell_type": "code",
   "execution_count": 41,
   "id": "f04fe98c",
   "metadata": {},
   "outputs": [
    {
     "data": {
      "image/png": "[encoded data removed]",
      "text/plain": [
       "<Figure size 640x480 with 1 Axes>"
      ]
     },
     "metadata": {},
     "output_type": "display_data"
    }
   ],
   "source": [
    "data = data.drop(indices_outliers)\n",
    "sns.boxplot(y=data['living_space'])\n",
    "plt.show()"
   ]
  },
  {
   "cell_type": "code",
   "execution_count": 42,
   "id": "d84e2adf",
   "metadata": {},
   "outputs": [],
   "source": [
    "data.reset_index(drop=True, inplace=True)"
   ]
  },
  {
   "cell_type": "markdown",
   "id": "180cd44e",
   "metadata": {},
   "source": [
    "# Modeling"
   ]
  },
  {
   "cell_type": "markdown",
   "id": "396528c4",
   "metadata": {},
   "source": [
    "X/y split\n",
    "Select the target variable 'price' and split features"
   ]
  },
  {
   "cell_type": "code",
   "execution_count": 43,
   "id": "73cb7755",
   "metadata": {},
   "outputs": [],
   "source": [
    "y = data['price']\n",
    "y = y.to_frame(name='price')\n",
    "X = data.drop(['price','address','county','city','zip_code_population','zip_code_density'], axis=1)"
   ]
  },
  {
   "cell_type": "markdown",
   "id": "17fa374b",
   "metadata": {},
   "source": [
    "Split the dataset into training and testing sets"
   ]
  },
  {
   "cell_type": "code",
   "execution_count": 44,
   "id": "e3444041",
   "metadata": {},
   "outputs": [
    {
     "name": "stdout",
     "output_type": "stream",
     "text": [
      "X_train shape is: (31164, 8)\n",
      "y_train shape is: (31164, 1)\n",
      "X_test shape is: (7791, 8)\n",
      "y_test shape is: (7791, 1)\n"
     ]
    }
   ],
   "source": [
    "X_train, X_test, y_train, y_test = train_test_split(X, y, test_size=0.2, random_state=13)\n",
    "print('X_train shape is:',X_train.shape)\n",
    "print('y_train shape is:', y_train.shape)\n",
    "print('X_test shape is:', X_test.shape)\n",
    "print('y_test shape is:', y_test.shape)"
   ]
  },
  {
   "cell_type": "markdown",
   "id": "79632052",
   "metadata": {},
   "source": [
    "Split numerical and categorical features in training and testing sets\n"
   ]
  },
  {
   "cell_type": "code",
   "execution_count": 45,
   "id": "5af2637a",
   "metadata": {},
   "outputs": [],
   "source": [
    "X_train_num = X_train.select_dtypes(include = np.number)\n",
    "X_test_num  = X_test.select_dtypes(include = np.number)\n",
    "X_train_cat = X_train.select_dtypes(include = object)\n",
    "X_test_cat  = X_test.select_dtypes(include = object)\n",
    "X_train_cat = X_train_cat.astype(str)\n",
    "X_test_cat = X_test_cat.astype(str)"
   ]
  },
  {
   "cell_type": "markdown",
   "id": "8c0dc8f8",
   "metadata": {},
   "source": [
    "Scaling Numerical Data./\n",
    "MinMaxScaler is used to scale numerical features./\n",
    "The scaler is fitted only on the training set, and the same transformation is applied to the test set."
   ]
  },
  {
   "cell_type": "code",
   "execution_count": 46,
   "id": "c0140947",
   "metadata": {},
   "outputs": [
    {
     "name": "stdout",
     "output_type": "stream",
     "text": [
      "(31164, 6)\n"
     ]
    },
    {
     "data": {
      "text/html": [
       "<div>\n",
       "<style scoped>\n",
       "    .dataframe tbody tr th:only-of-type {\n",
       "        vertical-align: middle;\n",
       "    }\n",
       "\n",
       "    .dataframe tbody tr th {\n",
       "        vertical-align: top;\n",
       "    }\n",
       "\n",
       "    .dataframe thead th {\n",
       "        text-align: right;\n",
       "    }\n",
       "</style>\n",
       "<table border=\"1\" class=\"dataframe\">\n",
       "  <thead>\n",
       "    <tr style=\"text-align: right;\">\n",
       "      <th></th>\n",
       "      <th>beds</th>\n",
       "      <th>baths</th>\n",
       "      <th>living_space</th>\n",
       "      <th>median_household_income</th>\n",
       "      <th>latitude</th>\n",
       "      <th>longitude</th>\n",
       "    </tr>\n",
       "  </thead>\n",
       "  <tbody>\n",
       "    <tr>\n",
       "      <th>0</th>\n",
       "      <td>0.090909</td>\n",
       "      <td>0.111111</td>\n",
       "      <td>0.056561</td>\n",
       "      <td>0.105289</td>\n",
       "      <td>0.504364</td>\n",
       "      <td>0.952872</td>\n",
       "    </tr>\n",
       "    <tr>\n",
       "      <th>1</th>\n",
       "      <td>0.090909</td>\n",
       "      <td>0.000000</td>\n",
       "      <td>0.074286</td>\n",
       "      <td>0.029077</td>\n",
       "      <td>0.758810</td>\n",
       "      <td>0.811264</td>\n",
       "    </tr>\n",
       "    <tr>\n",
       "      <th>2</th>\n",
       "      <td>0.181818</td>\n",
       "      <td>0.111111</td>\n",
       "      <td>0.110844</td>\n",
       "      <td>0.087662</td>\n",
       "      <td>0.277958</td>\n",
       "      <td>0.331752</td>\n",
       "    </tr>\n",
       "    <tr>\n",
       "      <th>3</th>\n",
       "      <td>0.181818</td>\n",
       "      <td>0.111111</td>\n",
       "      <td>0.171837</td>\n",
       "      <td>0.039096</td>\n",
       "      <td>0.543971</td>\n",
       "      <td>0.518410</td>\n",
       "    </tr>\n",
       "    <tr>\n",
       "      <th>4</th>\n",
       "      <td>0.181818</td>\n",
       "      <td>0.222222</td>\n",
       "      <td>0.125431</td>\n",
       "      <td>0.113500</td>\n",
       "      <td>0.646639</td>\n",
       "      <td>0.970799</td>\n",
       "    </tr>\n",
       "  </tbody>\n",
       "</table>\n",
       "</div>"
      ],
      "text/plain": [
       "       beds     baths  living_space  median_household_income  latitude  \\\n",
       "0  0.090909  0.111111      0.056561                 0.105289  0.504364   \n",
       "1  0.090909  0.000000      0.074286                 0.029077  0.758810   \n",
       "2  0.181818  0.111111      0.110844                 0.087662  0.277958   \n",
       "3  0.181818  0.111111      0.171837                 0.039096  0.543971   \n",
       "4  0.181818  0.222222      0.125431                 0.113500  0.646639   \n",
       "\n",
       "   longitude  \n",
       "0   0.952872  \n",
       "1   0.811264  \n",
       "2   0.331752  \n",
       "3   0.518410  \n",
       "4   0.970799  "
      ]
     },
     "execution_count": 46,
     "metadata": {},
     "output_type": "execute_result"
    }
   ],
   "source": [
    "transformer = MinMaxScaler().fit(X_train_num) # we just run this 'fit' for the train model, for the test model we DON´T re-fit\n",
    "X_train_num_scaled = transformer.transform(X_train_num)\n",
    "print(X_train_num_scaled.shape)\n",
    "# transforming it back to a dataframe\n",
    "X_train_num_scaled = pd.DataFrame(X_train_num_scaled, columns=X_train_num.columns)\n",
    "X_train_num_scaled\n",
    "# apply scaler to X_test_num, don't re-fit\n",
    "X_test_scaled_arr = transformer.transform(X_test_num)\n",
    "X_test_num_scaled = pd.DataFrame(X_test_scaled_arr, columns=X_test_num.columns)\n",
    "X_test_num_scaled.head()"
   ]
  },
  {
   "cell_type": "markdown",
   "id": "f22ebec3",
   "metadata": {},
   "source": [
    "Encoding Categorical Data./OneHotEncoder is used to encode categorical features./\n",
    "The encoder is fitted only on the training set, and the encoded columns are obtained./"
   ]
  },
  {
   "cell_type": "code",
   "execution_count": 47,
   "id": "b1bc213c",
   "metadata": {},
   "outputs": [
    {
     "data": {
      "text/html": [
       "<div>\n",
       "<style scoped>\n",
       "    .dataframe tbody tr th:only-of-type {\n",
       "        vertical-align: middle;\n",
       "    }\n",
       "\n",
       "    .dataframe tbody tr th {\n",
       "        vertical-align: top;\n",
       "    }\n",
       "\n",
       "    .dataframe thead th {\n",
       "        text-align: right;\n",
       "    }\n",
       "</style>\n",
       "<table border=\"1\" class=\"dataframe\">\n",
       "  <thead>\n",
       "    <tr style=\"text-align: right;\">\n",
       "      <th></th>\n",
       "      <th>zip_code_23451</th>\n",
       "      <th>zip_code_23456</th>\n",
       "      <th>zip_code_27610</th>\n",
       "      <th>zip_code_76179</th>\n",
       "      <th>zip_code_78253</th>\n",
       "      <th>zip_code_79928</th>\n",
       "      <th>zip_code_79938</th>\n",
       "      <th>zip_code_85212</th>\n",
       "      <th>zip_code_93727</th>\n",
       "      <th>zip_code_Other</th>\n",
       "      <th>...</th>\n",
       "      <th>state_North Carolina</th>\n",
       "      <th>state_Ohio</th>\n",
       "      <th>state_Oklahoma</th>\n",
       "      <th>state_Oregon</th>\n",
       "      <th>state_Pennsylvania</th>\n",
       "      <th>state_Tennessee</th>\n",
       "      <th>state_Texas</th>\n",
       "      <th>state_Virginia</th>\n",
       "      <th>state_Washington</th>\n",
       "      <th>state_Wisconsin</th>\n",
       "    </tr>\n",
       "  </thead>\n",
       "  <tbody>\n",
       "    <tr>\n",
       "      <th>0</th>\n",
       "      <td>0.0</td>\n",
       "      <td>0.0</td>\n",
       "      <td>0.0</td>\n",
       "      <td>0.0</td>\n",
       "      <td>0.0</td>\n",
       "      <td>0.0</td>\n",
       "      <td>0.0</td>\n",
       "      <td>0.0</td>\n",
       "      <td>0.0</td>\n",
       "      <td>1.0</td>\n",
       "      <td>...</td>\n",
       "      <td>0.0</td>\n",
       "      <td>0.0</td>\n",
       "      <td>0.0</td>\n",
       "      <td>0.0</td>\n",
       "      <td>0.0</td>\n",
       "      <td>0.0</td>\n",
       "      <td>0.0</td>\n",
       "      <td>0.0</td>\n",
       "      <td>0.0</td>\n",
       "      <td>0.0</td>\n",
       "    </tr>\n",
       "    <tr>\n",
       "      <th>1</th>\n",
       "      <td>0.0</td>\n",
       "      <td>0.0</td>\n",
       "      <td>0.0</td>\n",
       "      <td>0.0</td>\n",
       "      <td>0.0</td>\n",
       "      <td>0.0</td>\n",
       "      <td>0.0</td>\n",
       "      <td>0.0</td>\n",
       "      <td>0.0</td>\n",
       "      <td>1.0</td>\n",
       "      <td>...</td>\n",
       "      <td>0.0</td>\n",
       "      <td>0.0</td>\n",
       "      <td>0.0</td>\n",
       "      <td>0.0</td>\n",
       "      <td>0.0</td>\n",
       "      <td>0.0</td>\n",
       "      <td>0.0</td>\n",
       "      <td>0.0</td>\n",
       "      <td>0.0</td>\n",
       "      <td>0.0</td>\n",
       "    </tr>\n",
       "    <tr>\n",
       "      <th>2</th>\n",
       "      <td>0.0</td>\n",
       "      <td>0.0</td>\n",
       "      <td>0.0</td>\n",
       "      <td>0.0</td>\n",
       "      <td>0.0</td>\n",
       "      <td>0.0</td>\n",
       "      <td>0.0</td>\n",
       "      <td>0.0</td>\n",
       "      <td>0.0</td>\n",
       "      <td>1.0</td>\n",
       "      <td>...</td>\n",
       "      <td>0.0</td>\n",
       "      <td>0.0</td>\n",
       "      <td>0.0</td>\n",
       "      <td>0.0</td>\n",
       "      <td>0.0</td>\n",
       "      <td>0.0</td>\n",
       "      <td>0.0</td>\n",
       "      <td>0.0</td>\n",
       "      <td>0.0</td>\n",
       "      <td>0.0</td>\n",
       "    </tr>\n",
       "    <tr>\n",
       "      <th>3</th>\n",
       "      <td>0.0</td>\n",
       "      <td>0.0</td>\n",
       "      <td>0.0</td>\n",
       "      <td>0.0</td>\n",
       "      <td>0.0</td>\n",
       "      <td>0.0</td>\n",
       "      <td>0.0</td>\n",
       "      <td>0.0</td>\n",
       "      <td>0.0</td>\n",
       "      <td>1.0</td>\n",
       "      <td>...</td>\n",
       "      <td>0.0</td>\n",
       "      <td>0.0</td>\n",
       "      <td>0.0</td>\n",
       "      <td>0.0</td>\n",
       "      <td>0.0</td>\n",
       "      <td>0.0</td>\n",
       "      <td>0.0</td>\n",
       "      <td>0.0</td>\n",
       "      <td>0.0</td>\n",
       "      <td>0.0</td>\n",
       "    </tr>\n",
       "    <tr>\n",
       "      <th>4</th>\n",
       "      <td>0.0</td>\n",
       "      <td>0.0</td>\n",
       "      <td>0.0</td>\n",
       "      <td>0.0</td>\n",
       "      <td>0.0</td>\n",
       "      <td>0.0</td>\n",
       "      <td>0.0</td>\n",
       "      <td>0.0</td>\n",
       "      <td>0.0</td>\n",
       "      <td>1.0</td>\n",
       "      <td>...</td>\n",
       "      <td>0.0</td>\n",
       "      <td>0.0</td>\n",
       "      <td>0.0</td>\n",
       "      <td>0.0</td>\n",
       "      <td>0.0</td>\n",
       "      <td>0.0</td>\n",
       "      <td>0.0</td>\n",
       "      <td>0.0</td>\n",
       "      <td>0.0</td>\n",
       "      <td>0.0</td>\n",
       "    </tr>\n",
       "    <tr>\n",
       "      <th>5</th>\n",
       "      <td>0.0</td>\n",
       "      <td>0.0</td>\n",
       "      <td>0.0</td>\n",
       "      <td>0.0</td>\n",
       "      <td>0.0</td>\n",
       "      <td>0.0</td>\n",
       "      <td>0.0</td>\n",
       "      <td>0.0</td>\n",
       "      <td>0.0</td>\n",
       "      <td>1.0</td>\n",
       "      <td>...</td>\n",
       "      <td>0.0</td>\n",
       "      <td>0.0</td>\n",
       "      <td>0.0</td>\n",
       "      <td>0.0</td>\n",
       "      <td>0.0</td>\n",
       "      <td>0.0</td>\n",
       "      <td>0.0</td>\n",
       "      <td>0.0</td>\n",
       "      <td>0.0</td>\n",
       "      <td>0.0</td>\n",
       "    </tr>\n",
       "    <tr>\n",
       "      <th>6</th>\n",
       "      <td>0.0</td>\n",
       "      <td>0.0</td>\n",
       "      <td>0.0</td>\n",
       "      <td>0.0</td>\n",
       "      <td>0.0</td>\n",
       "      <td>0.0</td>\n",
       "      <td>0.0</td>\n",
       "      <td>0.0</td>\n",
       "      <td>0.0</td>\n",
       "      <td>1.0</td>\n",
       "      <td>...</td>\n",
       "      <td>1.0</td>\n",
       "      <td>0.0</td>\n",
       "      <td>0.0</td>\n",
       "      <td>0.0</td>\n",
       "      <td>0.0</td>\n",
       "      <td>0.0</td>\n",
       "      <td>0.0</td>\n",
       "      <td>0.0</td>\n",
       "      <td>0.0</td>\n",
       "      <td>0.0</td>\n",
       "    </tr>\n",
       "    <tr>\n",
       "      <th>7</th>\n",
       "      <td>0.0</td>\n",
       "      <td>0.0</td>\n",
       "      <td>0.0</td>\n",
       "      <td>0.0</td>\n",
       "      <td>0.0</td>\n",
       "      <td>0.0</td>\n",
       "      <td>0.0</td>\n",
       "      <td>0.0</td>\n",
       "      <td>0.0</td>\n",
       "      <td>1.0</td>\n",
       "      <td>...</td>\n",
       "      <td>0.0</td>\n",
       "      <td>0.0</td>\n",
       "      <td>0.0</td>\n",
       "      <td>0.0</td>\n",
       "      <td>0.0</td>\n",
       "      <td>0.0</td>\n",
       "      <td>0.0</td>\n",
       "      <td>0.0</td>\n",
       "      <td>0.0</td>\n",
       "      <td>0.0</td>\n",
       "    </tr>\n",
       "    <tr>\n",
       "      <th>8</th>\n",
       "      <td>0.0</td>\n",
       "      <td>0.0</td>\n",
       "      <td>0.0</td>\n",
       "      <td>0.0</td>\n",
       "      <td>0.0</td>\n",
       "      <td>0.0</td>\n",
       "      <td>0.0</td>\n",
       "      <td>0.0</td>\n",
       "      <td>0.0</td>\n",
       "      <td>1.0</td>\n",
       "      <td>...</td>\n",
       "      <td>0.0</td>\n",
       "      <td>0.0</td>\n",
       "      <td>0.0</td>\n",
       "      <td>0.0</td>\n",
       "      <td>0.0</td>\n",
       "      <td>0.0</td>\n",
       "      <td>0.0</td>\n",
       "      <td>0.0</td>\n",
       "      <td>0.0</td>\n",
       "      <td>0.0</td>\n",
       "    </tr>\n",
       "    <tr>\n",
       "      <th>9</th>\n",
       "      <td>0.0</td>\n",
       "      <td>0.0</td>\n",
       "      <td>0.0</td>\n",
       "      <td>0.0</td>\n",
       "      <td>0.0</td>\n",
       "      <td>0.0</td>\n",
       "      <td>0.0</td>\n",
       "      <td>0.0</td>\n",
       "      <td>0.0</td>\n",
       "      <td>1.0</td>\n",
       "      <td>...</td>\n",
       "      <td>0.0</td>\n",
       "      <td>0.0</td>\n",
       "      <td>0.0</td>\n",
       "      <td>0.0</td>\n",
       "      <td>0.0</td>\n",
       "      <td>1.0</td>\n",
       "      <td>0.0</td>\n",
       "      <td>0.0</td>\n",
       "      <td>0.0</td>\n",
       "      <td>0.0</td>\n",
       "    </tr>\n",
       "    <tr>\n",
       "      <th>10</th>\n",
       "      <td>0.0</td>\n",
       "      <td>0.0</td>\n",
       "      <td>0.0</td>\n",
       "      <td>0.0</td>\n",
       "      <td>0.0</td>\n",
       "      <td>0.0</td>\n",
       "      <td>0.0</td>\n",
       "      <td>0.0</td>\n",
       "      <td>0.0</td>\n",
       "      <td>1.0</td>\n",
       "      <td>...</td>\n",
       "      <td>0.0</td>\n",
       "      <td>0.0</td>\n",
       "      <td>0.0</td>\n",
       "      <td>0.0</td>\n",
       "      <td>0.0</td>\n",
       "      <td>1.0</td>\n",
       "      <td>0.0</td>\n",
       "      <td>0.0</td>\n",
       "      <td>0.0</td>\n",
       "      <td>0.0</td>\n",
       "    </tr>\n",
       "    <tr>\n",
       "      <th>11</th>\n",
       "      <td>0.0</td>\n",
       "      <td>0.0</td>\n",
       "      <td>0.0</td>\n",
       "      <td>0.0</td>\n",
       "      <td>0.0</td>\n",
       "      <td>0.0</td>\n",
       "      <td>0.0</td>\n",
       "      <td>0.0</td>\n",
       "      <td>0.0</td>\n",
       "      <td>1.0</td>\n",
       "      <td>...</td>\n",
       "      <td>0.0</td>\n",
       "      <td>0.0</td>\n",
       "      <td>0.0</td>\n",
       "      <td>0.0</td>\n",
       "      <td>0.0</td>\n",
       "      <td>0.0</td>\n",
       "      <td>0.0</td>\n",
       "      <td>0.0</td>\n",
       "      <td>0.0</td>\n",
       "      <td>0.0</td>\n",
       "    </tr>\n",
       "    <tr>\n",
       "      <th>12</th>\n",
       "      <td>0.0</td>\n",
       "      <td>0.0</td>\n",
       "      <td>0.0</td>\n",
       "      <td>0.0</td>\n",
       "      <td>0.0</td>\n",
       "      <td>0.0</td>\n",
       "      <td>0.0</td>\n",
       "      <td>0.0</td>\n",
       "      <td>0.0</td>\n",
       "      <td>1.0</td>\n",
       "      <td>...</td>\n",
       "      <td>0.0</td>\n",
       "      <td>0.0</td>\n",
       "      <td>0.0</td>\n",
       "      <td>0.0</td>\n",
       "      <td>0.0</td>\n",
       "      <td>0.0</td>\n",
       "      <td>1.0</td>\n",
       "      <td>0.0</td>\n",
       "      <td>0.0</td>\n",
       "      <td>0.0</td>\n",
       "    </tr>\n",
       "    <tr>\n",
       "      <th>13</th>\n",
       "      <td>0.0</td>\n",
       "      <td>0.0</td>\n",
       "      <td>0.0</td>\n",
       "      <td>0.0</td>\n",
       "      <td>0.0</td>\n",
       "      <td>0.0</td>\n",
       "      <td>0.0</td>\n",
       "      <td>0.0</td>\n",
       "      <td>0.0</td>\n",
       "      <td>1.0</td>\n",
       "      <td>...</td>\n",
       "      <td>0.0</td>\n",
       "      <td>0.0</td>\n",
       "      <td>0.0</td>\n",
       "      <td>0.0</td>\n",
       "      <td>0.0</td>\n",
       "      <td>0.0</td>\n",
       "      <td>0.0</td>\n",
       "      <td>0.0</td>\n",
       "      <td>0.0</td>\n",
       "      <td>0.0</td>\n",
       "    </tr>\n",
       "    <tr>\n",
       "      <th>14</th>\n",
       "      <td>0.0</td>\n",
       "      <td>0.0</td>\n",
       "      <td>0.0</td>\n",
       "      <td>0.0</td>\n",
       "      <td>0.0</td>\n",
       "      <td>0.0</td>\n",
       "      <td>0.0</td>\n",
       "      <td>0.0</td>\n",
       "      <td>0.0</td>\n",
       "      <td>1.0</td>\n",
       "      <td>...</td>\n",
       "      <td>0.0</td>\n",
       "      <td>0.0</td>\n",
       "      <td>0.0</td>\n",
       "      <td>0.0</td>\n",
       "      <td>0.0</td>\n",
       "      <td>0.0</td>\n",
       "      <td>0.0</td>\n",
       "      <td>0.0</td>\n",
       "      <td>0.0</td>\n",
       "      <td>0.0</td>\n",
       "    </tr>\n",
       "    <tr>\n",
       "      <th>15</th>\n",
       "      <td>0.0</td>\n",
       "      <td>0.0</td>\n",
       "      <td>0.0</td>\n",
       "      <td>0.0</td>\n",
       "      <td>0.0</td>\n",
       "      <td>0.0</td>\n",
       "      <td>0.0</td>\n",
       "      <td>0.0</td>\n",
       "      <td>0.0</td>\n",
       "      <td>1.0</td>\n",
       "      <td>...</td>\n",
       "      <td>0.0</td>\n",
       "      <td>0.0</td>\n",
       "      <td>0.0</td>\n",
       "      <td>0.0</td>\n",
       "      <td>0.0</td>\n",
       "      <td>0.0</td>\n",
       "      <td>0.0</td>\n",
       "      <td>0.0</td>\n",
       "      <td>0.0</td>\n",
       "      <td>0.0</td>\n",
       "    </tr>\n",
       "    <tr>\n",
       "      <th>16</th>\n",
       "      <td>0.0</td>\n",
       "      <td>0.0</td>\n",
       "      <td>0.0</td>\n",
       "      <td>0.0</td>\n",
       "      <td>0.0</td>\n",
       "      <td>0.0</td>\n",
       "      <td>0.0</td>\n",
       "      <td>0.0</td>\n",
       "      <td>0.0</td>\n",
       "      <td>1.0</td>\n",
       "      <td>...</td>\n",
       "      <td>0.0</td>\n",
       "      <td>0.0</td>\n",
       "      <td>0.0</td>\n",
       "      <td>0.0</td>\n",
       "      <td>0.0</td>\n",
       "      <td>0.0</td>\n",
       "      <td>0.0</td>\n",
       "      <td>0.0</td>\n",
       "      <td>0.0</td>\n",
       "      <td>0.0</td>\n",
       "    </tr>\n",
       "    <tr>\n",
       "      <th>17</th>\n",
       "      <td>0.0</td>\n",
       "      <td>0.0</td>\n",
       "      <td>0.0</td>\n",
       "      <td>0.0</td>\n",
       "      <td>0.0</td>\n",
       "      <td>0.0</td>\n",
       "      <td>0.0</td>\n",
       "      <td>0.0</td>\n",
       "      <td>0.0</td>\n",
       "      <td>1.0</td>\n",
       "      <td>...</td>\n",
       "      <td>0.0</td>\n",
       "      <td>0.0</td>\n",
       "      <td>0.0</td>\n",
       "      <td>0.0</td>\n",
       "      <td>0.0</td>\n",
       "      <td>0.0</td>\n",
       "      <td>0.0</td>\n",
       "      <td>0.0</td>\n",
       "      <td>0.0</td>\n",
       "      <td>0.0</td>\n",
       "    </tr>\n",
       "    <tr>\n",
       "      <th>18</th>\n",
       "      <td>0.0</td>\n",
       "      <td>0.0</td>\n",
       "      <td>0.0</td>\n",
       "      <td>0.0</td>\n",
       "      <td>0.0</td>\n",
       "      <td>0.0</td>\n",
       "      <td>0.0</td>\n",
       "      <td>0.0</td>\n",
       "      <td>0.0</td>\n",
       "      <td>1.0</td>\n",
       "      <td>...</td>\n",
       "      <td>0.0</td>\n",
       "      <td>0.0</td>\n",
       "      <td>0.0</td>\n",
       "      <td>0.0</td>\n",
       "      <td>0.0</td>\n",
       "      <td>0.0</td>\n",
       "      <td>0.0</td>\n",
       "      <td>0.0</td>\n",
       "      <td>0.0</td>\n",
       "      <td>0.0</td>\n",
       "    </tr>\n",
       "    <tr>\n",
       "      <th>19</th>\n",
       "      <td>0.0</td>\n",
       "      <td>0.0</td>\n",
       "      <td>0.0</td>\n",
       "      <td>0.0</td>\n",
       "      <td>0.0</td>\n",
       "      <td>0.0</td>\n",
       "      <td>0.0</td>\n",
       "      <td>0.0</td>\n",
       "      <td>0.0</td>\n",
       "      <td>1.0</td>\n",
       "      <td>...</td>\n",
       "      <td>0.0</td>\n",
       "      <td>0.0</td>\n",
       "      <td>0.0</td>\n",
       "      <td>0.0</td>\n",
       "      <td>0.0</td>\n",
       "      <td>0.0</td>\n",
       "      <td>0.0</td>\n",
       "      <td>0.0</td>\n",
       "      <td>0.0</td>\n",
       "      <td>0.0</td>\n",
       "    </tr>\n",
       "  </tbody>\n",
       "</table>\n",
       "<p>20 rows × 38 columns</p>\n",
       "</div>"
      ],
      "text/plain": [
       "    zip_code_23451  zip_code_23456  zip_code_27610  zip_code_76179  \\\n",
       "0              0.0             0.0             0.0             0.0   \n",
       "1              0.0             0.0             0.0             0.0   \n",
       "2              0.0             0.0             0.0             0.0   \n",
       "3              0.0             0.0             0.0             0.0   \n",
       "4              0.0             0.0             0.0             0.0   \n",
       "5              0.0             0.0             0.0             0.0   \n",
       "6              0.0             0.0             0.0             0.0   \n",
       "7              0.0             0.0             0.0             0.0   \n",
       "8              0.0             0.0             0.0             0.0   \n",
       "9              0.0             0.0             0.0             0.0   \n",
       "10             0.0             0.0             0.0             0.0   \n",
       "11             0.0             0.0             0.0             0.0   \n",
       "12             0.0             0.0             0.0             0.0   \n",
       "13             0.0             0.0             0.0             0.0   \n",
       "14             0.0             0.0             0.0             0.0   \n",
       "15             0.0             0.0             0.0             0.0   \n",
       "16             0.0             0.0             0.0             0.0   \n",
       "17             0.0             0.0             0.0             0.0   \n",
       "18             0.0             0.0             0.0             0.0   \n",
       "19             0.0             0.0             0.0             0.0   \n",
       "\n",
       "    zip_code_78253  zip_code_79928  zip_code_79938  zip_code_85212  \\\n",
       "0              0.0             0.0             0.0             0.0   \n",
       "1              0.0             0.0             0.0             0.0   \n",
       "2              0.0             0.0             0.0             0.0   \n",
       "3              0.0             0.0             0.0             0.0   \n",
       "4              0.0             0.0             0.0             0.0   \n",
       "5              0.0             0.0             0.0             0.0   \n",
       "6              0.0             0.0             0.0             0.0   \n",
       "7              0.0             0.0             0.0             0.0   \n",
       "8              0.0             0.0             0.0             0.0   \n",
       "9              0.0             0.0             0.0             0.0   \n",
       "10             0.0             0.0             0.0             0.0   \n",
       "11             0.0             0.0             0.0             0.0   \n",
       "12             0.0             0.0             0.0             0.0   \n",
       "13             0.0             0.0             0.0             0.0   \n",
       "14             0.0             0.0             0.0             0.0   \n",
       "15             0.0             0.0             0.0             0.0   \n",
       "16             0.0             0.0             0.0             0.0   \n",
       "17             0.0             0.0             0.0             0.0   \n",
       "18             0.0             0.0             0.0             0.0   \n",
       "19             0.0             0.0             0.0             0.0   \n",
       "\n",
       "    zip_code_93727  zip_code_Other  ...  state_North Carolina  state_Ohio  \\\n",
       "0              0.0             1.0  ...                   0.0         0.0   \n",
       "1              0.0             1.0  ...                   0.0         0.0   \n",
       "2              0.0             1.0  ...                   0.0         0.0   \n",
       "3              0.0             1.0  ...                   0.0         0.0   \n",
       "4              0.0             1.0  ...                   0.0         0.0   \n",
       "5              0.0             1.0  ...                   0.0         0.0   \n",
       "6              0.0             1.0  ...                   1.0         0.0   \n",
       "7              0.0             1.0  ...                   0.0         0.0   \n",
       "8              0.0             1.0  ...                   0.0         0.0   \n",
       "9              0.0             1.0  ...                   0.0         0.0   \n",
       "10             0.0             1.0  ...                   0.0         0.0   \n",
       "11             0.0             1.0  ...                   0.0         0.0   \n",
       "12             0.0             1.0  ...                   0.0         0.0   \n",
       "13             0.0             1.0  ...                   0.0         0.0   \n",
       "14             0.0             1.0  ...                   0.0         0.0   \n",
       "15             0.0             1.0  ...                   0.0         0.0   \n",
       "16             0.0             1.0  ...                   0.0         0.0   \n",
       "17             0.0             1.0  ...                   0.0         0.0   \n",
       "18             0.0             1.0  ...                   0.0         0.0   \n",
       "19             0.0             1.0  ...                   0.0         0.0   \n",
       "\n",
       "    state_Oklahoma  state_Oregon  state_Pennsylvania  state_Tennessee  \\\n",
       "0              0.0           0.0                 0.0              0.0   \n",
       "1              0.0           0.0                 0.0              0.0   \n",
       "2              0.0           0.0                 0.0              0.0   \n",
       "3              0.0           0.0                 0.0              0.0   \n",
       "4              0.0           0.0                 0.0              0.0   \n",
       "5              0.0           0.0                 0.0              0.0   \n",
       "6              0.0           0.0                 0.0              0.0   \n",
       "7              0.0           0.0                 0.0              0.0   \n",
       "8              0.0           0.0                 0.0              0.0   \n",
       "9              0.0           0.0                 0.0              1.0   \n",
       "10             0.0           0.0                 0.0              1.0   \n",
       "11             0.0           0.0                 0.0              0.0   \n",
       "12             0.0           0.0                 0.0              0.0   \n",
       "13             0.0           0.0                 0.0              0.0   \n",
       "14             0.0           0.0                 0.0              0.0   \n",
       "15             0.0           0.0                 0.0              0.0   \n",
       "16             0.0           0.0                 0.0              0.0   \n",
       "17             0.0           0.0                 0.0              0.0   \n",
       "18             0.0           0.0                 0.0              0.0   \n",
       "19             0.0           0.0                 0.0              0.0   \n",
       "\n",
       "    state_Texas  state_Virginia  state_Washington  state_Wisconsin  \n",
       "0           0.0             0.0               0.0              0.0  \n",
       "1           0.0             0.0               0.0              0.0  \n",
       "2           0.0             0.0               0.0              0.0  \n",
       "3           0.0             0.0               0.0              0.0  \n",
       "4           0.0             0.0               0.0              0.0  \n",
       "5           0.0             0.0               0.0              0.0  \n",
       "6           0.0             0.0               0.0              0.0  \n",
       "7           0.0             0.0               0.0              0.0  \n",
       "8           0.0             0.0               0.0              0.0  \n",
       "9           0.0             0.0               0.0              0.0  \n",
       "10          0.0             0.0               0.0              0.0  \n",
       "11          0.0             0.0               0.0              0.0  \n",
       "12          1.0             0.0               0.0              0.0  \n",
       "13          0.0             0.0               0.0              0.0  \n",
       "14          0.0             0.0               0.0              0.0  \n",
       "15          0.0             0.0               0.0              0.0  \n",
       "16          0.0             0.0               0.0              0.0  \n",
       "17          0.0             0.0               0.0              0.0  \n",
       "18          0.0             0.0               0.0              0.0  \n",
       "19          0.0             0.0               0.0              0.0  \n",
       "\n",
       "[20 rows x 38 columns]"
      ]
     },
     "execution_count": 47,
     "metadata": {},
     "output_type": "execute_result"
    }
   ],
   "source": [
    "# we just run this 'fit' for the train model, for the test model we DON´T re-fit, but we still drop the first column\n",
    "encoder = OneHotEncoder(drop='first').fit(X_train_cat)  # Fiting and Dropping the first varaible of each column\n",
    "encoded = encoder.transform(X_train_cat).toarray()\n",
    "cols = encoder.get_feature_names_out(input_features=X_train_cat.columns) # assigning column names\n",
    "onehot_encoded_train_cat = pd.DataFrame(encoded, columns=cols)\n",
    "onehot_encoded_train_cat.head(20)"
   ]
  },
  {
   "cell_type": "markdown",
   "id": "178dd0a5",
   "metadata": {},
   "source": [
    " Concatenation of Scaled and Encoded Features"
   ]
  },
  {
   "cell_type": "code",
   "execution_count": 48,
   "id": "a8aeac73",
   "metadata": {},
   "outputs": [
    {
     "data": {
      "text/html": [
       "<div>\n",
       "<style scoped>\n",
       "    .dataframe tbody tr th:only-of-type {\n",
       "        vertical-align: middle;\n",
       "    }\n",
       "\n",
       "    .dataframe tbody tr th {\n",
       "        vertical-align: top;\n",
       "    }\n",
       "\n",
       "    .dataframe thead th {\n",
       "        text-align: right;\n",
       "    }\n",
       "</style>\n",
       "<table border=\"1\" class=\"dataframe\">\n",
       "  <thead>\n",
       "    <tr style=\"text-align: right;\">\n",
       "      <th></th>\n",
       "      <th>beds</th>\n",
       "      <th>baths</th>\n",
       "      <th>living_space</th>\n",
       "      <th>median_household_income</th>\n",
       "      <th>latitude</th>\n",
       "      <th>longitude</th>\n",
       "      <th>zip_code_23451</th>\n",
       "      <th>zip_code_23456</th>\n",
       "      <th>zip_code_27610</th>\n",
       "      <th>zip_code_76179</th>\n",
       "      <th>...</th>\n",
       "      <th>state_North Carolina</th>\n",
       "      <th>state_Ohio</th>\n",
       "      <th>state_Oklahoma</th>\n",
       "      <th>state_Oregon</th>\n",
       "      <th>state_Pennsylvania</th>\n",
       "      <th>state_Tennessee</th>\n",
       "      <th>state_Texas</th>\n",
       "      <th>state_Virginia</th>\n",
       "      <th>state_Washington</th>\n",
       "      <th>state_Wisconsin</th>\n",
       "    </tr>\n",
       "  </thead>\n",
       "  <tbody>\n",
       "    <tr>\n",
       "      <th>0</th>\n",
       "      <td>0.181818</td>\n",
       "      <td>0.000000</td>\n",
       "      <td>0.062531</td>\n",
       "      <td>0.021875</td>\n",
       "      <td>0.755287</td>\n",
       "      <td>0.806447</td>\n",
       "      <td>0.0</td>\n",
       "      <td>0.0</td>\n",
       "      <td>0.0</td>\n",
       "      <td>0.0</td>\n",
       "      <td>...</td>\n",
       "      <td>0.0</td>\n",
       "      <td>0.0</td>\n",
       "      <td>0.0</td>\n",
       "      <td>0.0</td>\n",
       "      <td>0.0</td>\n",
       "      <td>0.0</td>\n",
       "      <td>0.0</td>\n",
       "      <td>0.0</td>\n",
       "      <td>0.0</td>\n",
       "      <td>0.0</td>\n",
       "    </tr>\n",
       "    <tr>\n",
       "      <th>1</th>\n",
       "      <td>0.090909</td>\n",
       "      <td>0.111111</td>\n",
       "      <td>0.044190</td>\n",
       "      <td>0.166421</td>\n",
       "      <td>0.524342</td>\n",
       "      <td>0.019841</td>\n",
       "      <td>0.0</td>\n",
       "      <td>0.0</td>\n",
       "      <td>0.0</td>\n",
       "      <td>0.0</td>\n",
       "      <td>...</td>\n",
       "      <td>0.0</td>\n",
       "      <td>0.0</td>\n",
       "      <td>0.0</td>\n",
       "      <td>0.0</td>\n",
       "      <td>0.0</td>\n",
       "      <td>0.0</td>\n",
       "      <td>0.0</td>\n",
       "      <td>0.0</td>\n",
       "      <td>0.0</td>\n",
       "      <td>0.0</td>\n",
       "    </tr>\n",
       "    <tr>\n",
       "      <th>2</th>\n",
       "      <td>0.181818</td>\n",
       "      <td>0.000000</td>\n",
       "      <td>0.070039</td>\n",
       "      <td>0.047125</td>\n",
       "      <td>0.615797</td>\n",
       "      <td>0.939340</td>\n",
       "      <td>0.0</td>\n",
       "      <td>0.0</td>\n",
       "      <td>0.0</td>\n",
       "      <td>0.0</td>\n",
       "      <td>...</td>\n",
       "      <td>0.0</td>\n",
       "      <td>0.0</td>\n",
       "      <td>0.0</td>\n",
       "      <td>0.0</td>\n",
       "      <td>0.0</td>\n",
       "      <td>0.0</td>\n",
       "      <td>0.0</td>\n",
       "      <td>0.0</td>\n",
       "      <td>0.0</td>\n",
       "      <td>0.0</td>\n",
       "    </tr>\n",
       "    <tr>\n",
       "      <th>3</th>\n",
       "      <td>0.000000</td>\n",
       "      <td>0.000000</td>\n",
       "      <td>0.042344</td>\n",
       "      <td>0.144716</td>\n",
       "      <td>0.636988</td>\n",
       "      <td>0.363006</td>\n",
       "      <td>0.0</td>\n",
       "      <td>0.0</td>\n",
       "      <td>0.0</td>\n",
       "      <td>0.0</td>\n",
       "      <td>...</td>\n",
       "      <td>0.0</td>\n",
       "      <td>0.0</td>\n",
       "      <td>0.0</td>\n",
       "      <td>0.0</td>\n",
       "      <td>0.0</td>\n",
       "      <td>0.0</td>\n",
       "      <td>0.0</td>\n",
       "      <td>0.0</td>\n",
       "      <td>0.0</td>\n",
       "      <td>0.0</td>\n",
       "    </tr>\n",
       "    <tr>\n",
       "      <th>4</th>\n",
       "      <td>0.181818</td>\n",
       "      <td>0.111111</td>\n",
       "      <td>0.078040</td>\n",
       "      <td>0.069632</td>\n",
       "      <td>0.207742</td>\n",
       "      <td>0.836892</td>\n",
       "      <td>0.0</td>\n",
       "      <td>0.0</td>\n",
       "      <td>0.0</td>\n",
       "      <td>0.0</td>\n",
       "      <td>...</td>\n",
       "      <td>0.0</td>\n",
       "      <td>0.0</td>\n",
       "      <td>0.0</td>\n",
       "      <td>0.0</td>\n",
       "      <td>0.0</td>\n",
       "      <td>0.0</td>\n",
       "      <td>0.0</td>\n",
       "      <td>0.0</td>\n",
       "      <td>0.0</td>\n",
       "      <td>0.0</td>\n",
       "    </tr>\n",
       "    <tr>\n",
       "      <th>...</th>\n",
       "      <td>...</td>\n",
       "      <td>...</td>\n",
       "      <td>...</td>\n",
       "      <td>...</td>\n",
       "      <td>...</td>\n",
       "      <td>...</td>\n",
       "      <td>...</td>\n",
       "      <td>...</td>\n",
       "      <td>...</td>\n",
       "      <td>...</td>\n",
       "      <td>...</td>\n",
       "      <td>...</td>\n",
       "      <td>...</td>\n",
       "      <td>...</td>\n",
       "      <td>...</td>\n",
       "      <td>...</td>\n",
       "      <td>...</td>\n",
       "      <td>...</td>\n",
       "      <td>...</td>\n",
       "      <td>...</td>\n",
       "      <td>...</td>\n",
       "    </tr>\n",
       "    <tr>\n",
       "      <th>31159</th>\n",
       "      <td>0.363636</td>\n",
       "      <td>0.222222</td>\n",
       "      <td>0.152757</td>\n",
       "      <td>0.115707</td>\n",
       "      <td>0.675571</td>\n",
       "      <td>0.990806</td>\n",
       "      <td>0.0</td>\n",
       "      <td>0.0</td>\n",
       "      <td>0.0</td>\n",
       "      <td>0.0</td>\n",
       "      <td>...</td>\n",
       "      <td>0.0</td>\n",
       "      <td>0.0</td>\n",
       "      <td>0.0</td>\n",
       "      <td>0.0</td>\n",
       "      <td>0.0</td>\n",
       "      <td>0.0</td>\n",
       "      <td>0.0</td>\n",
       "      <td>0.0</td>\n",
       "      <td>0.0</td>\n",
       "      <td>0.0</td>\n",
       "    </tr>\n",
       "    <tr>\n",
       "      <th>31160</th>\n",
       "      <td>0.181818</td>\n",
       "      <td>0.000000</td>\n",
       "      <td>0.071763</td>\n",
       "      <td>0.149300</td>\n",
       "      <td>0.186130</td>\n",
       "      <td>0.557893</td>\n",
       "      <td>0.0</td>\n",
       "      <td>0.0</td>\n",
       "      <td>0.0</td>\n",
       "      <td>0.0</td>\n",
       "      <td>...</td>\n",
       "      <td>0.0</td>\n",
       "      <td>0.0</td>\n",
       "      <td>0.0</td>\n",
       "      <td>0.0</td>\n",
       "      <td>0.0</td>\n",
       "      <td>0.0</td>\n",
       "      <td>1.0</td>\n",
       "      <td>0.0</td>\n",
       "      <td>0.0</td>\n",
       "      <td>0.0</td>\n",
       "    </tr>\n",
       "    <tr>\n",
       "      <th>31161</th>\n",
       "      <td>0.181818</td>\n",
       "      <td>0.111111</td>\n",
       "      <td>0.077671</td>\n",
       "      <td>0.032354</td>\n",
       "      <td>0.501487</td>\n",
       "      <td>0.062391</td>\n",
       "      <td>0.0</td>\n",
       "      <td>0.0</td>\n",
       "      <td>0.0</td>\n",
       "      <td>0.0</td>\n",
       "      <td>...</td>\n",
       "      <td>0.0</td>\n",
       "      <td>0.0</td>\n",
       "      <td>0.0</td>\n",
       "      <td>0.0</td>\n",
       "      <td>0.0</td>\n",
       "      <td>0.0</td>\n",
       "      <td>0.0</td>\n",
       "      <td>0.0</td>\n",
       "      <td>0.0</td>\n",
       "      <td>0.0</td>\n",
       "    </tr>\n",
       "    <tr>\n",
       "      <th>31162</th>\n",
       "      <td>0.000000</td>\n",
       "      <td>0.000000</td>\n",
       "      <td>0.019449</td>\n",
       "      <td>0.108157</td>\n",
       "      <td>0.317381</td>\n",
       "      <td>0.114852</td>\n",
       "      <td>0.0</td>\n",
       "      <td>0.0</td>\n",
       "      <td>0.0</td>\n",
       "      <td>0.0</td>\n",
       "      <td>...</td>\n",
       "      <td>0.0</td>\n",
       "      <td>0.0</td>\n",
       "      <td>0.0</td>\n",
       "      <td>0.0</td>\n",
       "      <td>0.0</td>\n",
       "      <td>0.0</td>\n",
       "      <td>0.0</td>\n",
       "      <td>0.0</td>\n",
       "      <td>0.0</td>\n",
       "      <td>0.0</td>\n",
       "    </tr>\n",
       "    <tr>\n",
       "      <th>31163</th>\n",
       "      <td>0.090909</td>\n",
       "      <td>0.111111</td>\n",
       "      <td>0.045113</td>\n",
       "      <td>0.049210</td>\n",
       "      <td>0.316460</td>\n",
       "      <td>0.116191</td>\n",
       "      <td>0.0</td>\n",
       "      <td>0.0</td>\n",
       "      <td>0.0</td>\n",
       "      <td>0.0</td>\n",
       "      <td>...</td>\n",
       "      <td>0.0</td>\n",
       "      <td>0.0</td>\n",
       "      <td>0.0</td>\n",
       "      <td>0.0</td>\n",
       "      <td>0.0</td>\n",
       "      <td>0.0</td>\n",
       "      <td>0.0</td>\n",
       "      <td>0.0</td>\n",
       "      <td>0.0</td>\n",
       "      <td>0.0</td>\n",
       "    </tr>\n",
       "  </tbody>\n",
       "</table>\n",
       "<p>31164 rows × 44 columns</p>\n",
       "</div>"
      ],
      "text/plain": [
       "           beds     baths  living_space  median_household_income  latitude  \\\n",
       "0      0.181818  0.000000      0.062531                 0.021875  0.755287   \n",
       "1      0.090909  0.111111      0.044190                 0.166421  0.524342   \n",
       "2      0.181818  0.000000      0.070039                 0.047125  0.615797   \n",
       "3      0.000000  0.000000      0.042344                 0.144716  0.636988   \n",
       "4      0.181818  0.111111      0.078040                 0.069632  0.207742   \n",
       "...         ...       ...           ...                      ...       ...   \n",
       "31159  0.363636  0.222222      0.152757                 0.115707  0.675571   \n",
       "31160  0.181818  0.000000      0.071763                 0.149300  0.186130   \n",
       "31161  0.181818  0.111111      0.077671                 0.032354  0.501487   \n",
       "31162  0.000000  0.000000      0.019449                 0.108157  0.317381   \n",
       "31163  0.090909  0.111111      0.045113                 0.049210  0.316460   \n",
       "\n",
       "       longitude  zip_code_23451  zip_code_23456  zip_code_27610  \\\n",
       "0       0.806447             0.0             0.0             0.0   \n",
       "1       0.019841             0.0             0.0             0.0   \n",
       "2       0.939340             0.0             0.0             0.0   \n",
       "3       0.363006             0.0             0.0             0.0   \n",
       "4       0.836892             0.0             0.0             0.0   \n",
       "...          ...             ...             ...             ...   \n",
       "31159   0.990806             0.0             0.0             0.0   \n",
       "31160   0.557893             0.0             0.0             0.0   \n",
       "31161   0.062391             0.0             0.0             0.0   \n",
       "31162   0.114852             0.0             0.0             0.0   \n",
       "31163   0.116191             0.0             0.0             0.0   \n",
       "\n",
       "       zip_code_76179  ...  state_North Carolina  state_Ohio  state_Oklahoma  \\\n",
       "0                 0.0  ...                   0.0         0.0             0.0   \n",
       "1                 0.0  ...                   0.0         0.0             0.0   \n",
       "2                 0.0  ...                   0.0         0.0             0.0   \n",
       "3                 0.0  ...                   0.0         0.0             0.0   \n",
       "4                 0.0  ...                   0.0         0.0             0.0   \n",
       "...               ...  ...                   ...         ...             ...   \n",
       "31159             0.0  ...                   0.0         0.0             0.0   \n",
       "31160             0.0  ...                   0.0         0.0             0.0   \n",
       "31161             0.0  ...                   0.0         0.0             0.0   \n",
       "31162             0.0  ...                   0.0         0.0             0.0   \n",
       "31163             0.0  ...                   0.0         0.0             0.0   \n",
       "\n",
       "       state_Oregon  state_Pennsylvania  state_Tennessee  state_Texas  \\\n",
       "0               0.0                 0.0              0.0          0.0   \n",
       "1               0.0                 0.0              0.0          0.0   \n",
       "2               0.0                 0.0              0.0          0.0   \n",
       "3               0.0                 0.0              0.0          0.0   \n",
       "4               0.0                 0.0              0.0          0.0   \n",
       "...             ...                 ...              ...          ...   \n",
       "31159           0.0                 0.0              0.0          0.0   \n",
       "31160           0.0                 0.0              0.0          1.0   \n",
       "31161           0.0                 0.0              0.0          0.0   \n",
       "31162           0.0                 0.0              0.0          0.0   \n",
       "31163           0.0                 0.0              0.0          0.0   \n",
       "\n",
       "       state_Virginia  state_Washington  state_Wisconsin  \n",
       "0                 0.0               0.0              0.0  \n",
       "1                 0.0               0.0              0.0  \n",
       "2                 0.0               0.0              0.0  \n",
       "3                 0.0               0.0              0.0  \n",
       "4                 0.0               0.0              0.0  \n",
       "...               ...               ...              ...  \n",
       "31159             0.0               0.0              0.0  \n",
       "31160             0.0               0.0              0.0  \n",
       "31161             0.0               0.0              0.0  \n",
       "31162             0.0               0.0              0.0  \n",
       "31163             0.0               0.0              0.0  \n",
       "\n",
       "[31164 rows x 44 columns]"
      ]
     },
     "execution_count": 48,
     "metadata": {},
     "output_type": "execute_result"
    }
   ],
   "source": [
    "# Concatenating numerical data after scaling\n",
    "X_train_treated = pd.concat([X_train_num_scaled, onehot_encoded_train_cat], axis=1)\n",
    "# Reset the index\n",
    "X_train_treated = X_train_treated.reset_index()\n",
    "#Dropping the duplicated index\n",
    "X_train_treated = X_train_treated.drop('index',axis=1)\n",
    "X_train_treated"
   ]
  },
  {
   "cell_type": "markdown",
   "id": "e2001c81",
   "metadata": {},
   "source": [
    " Similar Treatment for the Test Set./The same scaler and encoder used in the training set are applied to the test set."
   ]
  },
  {
   "cell_type": "code",
   "execution_count": 49,
   "id": "5c763ad6",
   "metadata": {},
   "outputs": [
    {
     "data": {
      "text/html": [
       "<div>\n",
       "<style scoped>\n",
       "    .dataframe tbody tr th:only-of-type {\n",
       "        vertical-align: middle;\n",
       "    }\n",
       "\n",
       "    .dataframe tbody tr th {\n",
       "        vertical-align: top;\n",
       "    }\n",
       "\n",
       "    .dataframe thead th {\n",
       "        text-align: right;\n",
       "    }\n",
       "</style>\n",
       "<table border=\"1\" class=\"dataframe\">\n",
       "  <thead>\n",
       "    <tr style=\"text-align: right;\">\n",
       "      <th></th>\n",
       "      <th>price</th>\n",
       "    </tr>\n",
       "  </thead>\n",
       "  <tbody>\n",
       "    <tr>\n",
       "      <th>0</th>\n",
       "      <td>239900.0</td>\n",
       "    </tr>\n",
       "    <tr>\n",
       "      <th>1</th>\n",
       "      <td>27950.0</td>\n",
       "    </tr>\n",
       "    <tr>\n",
       "      <th>2</th>\n",
       "      <td>265500.0</td>\n",
       "    </tr>\n",
       "    <tr>\n",
       "      <th>3</th>\n",
       "      <td>289900.0</td>\n",
       "    </tr>\n",
       "    <tr>\n",
       "      <th>4</th>\n",
       "      <td>500000.0</td>\n",
       "    </tr>\n",
       "  </tbody>\n",
       "</table>\n",
       "</div>"
      ],
      "text/plain": [
       "      price\n",
       "0  239900.0\n",
       "1   27950.0\n",
       "2  265500.0\n",
       "3  289900.0\n",
       "4  500000.0"
      ]
     },
     "execution_count": 49,
     "metadata": {},
     "output_type": "execute_result"
    }
   ],
   "source": [
    "\n",
    "'''For the TEST part'''\n",
    "# apply scaler to X_test_num, don't re-fit\n",
    "X_test_scaled_arr = transformer.transform(X_test_num)\n",
    "X_test_num_scaled = pd.DataFrame(X_test_scaled_arr, columns=X_test_num.columns)\n",
    "X_test_num_scaled.head()\n",
    "\n",
    "# apply encoder to X_test_cat, don't re-fit\n",
    "encoded_test_cat = encoder.transform(X_test_cat).toarray()\n",
    "onehot_encoded_test_cat = pd.DataFrame(encoded_test_cat, columns=cols)\n",
    "onehot_encoded_test_cat.head()\n",
    "\n",
    "# combine scaled and onehot_encoded portions of X_test\n",
    "X_test_treated = pd.concat([X_test_num_scaled, onehot_encoded_test_cat], axis=1)\n",
    "\n",
    "# Reset the index\n",
    "X_test_treated = X_test_treated.reset_index()\n",
    "#Dropping the duplicated index\n",
    "X_test_treated = X_test_treated.drop('index',axis=1)\n",
    "X_test_treated.head()\n",
    "\n",
    "y_test = y_test.reset_index()\n",
    "y_test = y_test.drop('index',axis=1)\n",
    "y_test.head()"
   ]
  },
  {
   "cell_type": "markdown",
   "id": "b144266b",
   "metadata": {},
   "source": [
    "Regression Model Training"
   ]
  },
  {
   "cell_type": "code",
   "execution_count": 50,
   "id": "72b7d952",
   "metadata": {},
   "outputs": [
    {
     "data": {
      "text/html": [
       "<style>#sk-container-id-1 {color: black;}#sk-container-id-1 pre{padding: 0;}#sk-container-id-1 div.sk-toggleable {background-color: white;}#sk-container-id-1 label.sk-toggleable__label {cursor: pointer;display: block;width: 100%;margin-bottom: 0;padding: 0.3em;box-sizing: border-box;text-align: center;}#sk-container-id-1 label.sk-toggleable__label-arrow:before {content: \"▸\";float: left;margin-right: 0.25em;color: #696969;}#sk-container-id-1 label.sk-toggleable__label-arrow:hover:before {color: black;}#sk-container-id-1 div.sk-estimator:hover label.sk-toggleable__label-arrow:before {color: black;}#sk-container-id-1 div.sk-toggleable__content {max-height: 0;max-width: 0;overflow: hidden;text-align: left;background-color: #f0f8ff;}#sk-container-id-1 div.sk-toggleable__content pre {margin: 0.2em;color: black;border-radius: 0.25em;background-color: #f0f8ff;}#sk-container-id-1 input.sk-toggleable__control:checked~div.sk-toggleable__content {max-height: 200px;max-width: 100%;overflow: auto;}#sk-container-id-1 input.sk-toggleable__control:checked~label.sk-toggleable__label-arrow:before {content: \"▾\";}#sk-container-id-1 div.sk-estimator input.sk-toggleable__control:checked~label.sk-toggleable__label {background-color: #d4ebff;}#sk-container-id-1 div.sk-label input.sk-toggleable__control:checked~label.sk-toggleable__label {background-color: #d4ebff;}#sk-container-id-1 input.sk-hidden--visually {border: 0;clip: rect(1px 1px 1px 1px);clip: rect(1px, 1px, 1px, 1px);height: 1px;margin: -1px;overflow: hidden;padding: 0;position: absolute;width: 1px;}#sk-container-id-1 div.sk-estimator {font-family: monospace;background-color: #f0f8ff;border: 1px dotted black;border-radius: 0.25em;box-sizing: border-box;margin-bottom: 0.5em;}#sk-container-id-1 div.sk-estimator:hover {background-color: #d4ebff;}#sk-container-id-1 div.sk-parallel-item::after {content: \"\";width: 100%;border-bottom: 1px solid gray;flex-grow: 1;}#sk-container-id-1 div.sk-label:hover label.sk-toggleable__label {background-color: #d4ebff;}#sk-container-id-1 div.sk-serial::before {content: \"\";position: absolute;border-left: 1px solid gray;box-sizing: border-box;top: 0;bottom: 0;left: 50%;z-index: 0;}#sk-container-id-1 div.sk-serial {display: flex;flex-direction: column;align-items: center;background-color: white;padding-right: 0.2em;padding-left: 0.2em;position: relative;}#sk-container-id-1 div.sk-item {position: relative;z-index: 1;}#sk-container-id-1 div.sk-parallel {display: flex;align-items: stretch;justify-content: center;background-color: white;position: relative;}#sk-container-id-1 div.sk-item::before, #sk-container-id-1 div.sk-parallel-item::before {content: \"\";position: absolute;border-left: 1px solid gray;box-sizing: border-box;top: 0;bottom: 0;left: 50%;z-index: -1;}#sk-container-id-1 div.sk-parallel-item {display: flex;flex-direction: column;z-index: 1;position: relative;background-color: white;}#sk-container-id-1 div.sk-parallel-item:first-child::after {align-self: flex-end;width: 50%;}#sk-container-id-1 div.sk-parallel-item:last-child::after {align-self: flex-start;width: 50%;}#sk-container-id-1 div.sk-parallel-item:only-child::after {width: 0;}#sk-container-id-1 div.sk-dashed-wrapped {border: 1px dashed gray;margin: 0 0.4em 0.5em 0.4em;box-sizing: border-box;padding-bottom: 0.4em;background-color: white;}#sk-container-id-1 div.sk-label label {font-family: monospace;font-weight: bold;display: inline-block;line-height: 1.2em;}#sk-container-id-1 div.sk-label-container {text-align: center;}#sk-container-id-1 div.sk-container {/* jupyter's `normalize.less` sets `[hidden] { display: none; }` but bootstrap.min.css set `[hidden] { display: none !important; }` so we also need the `!important` here to be able to override the default hidden behavior on the sphinx rendered scikit-learn.org. See: https://github.com/scikit-learn/scikit-learn/issues/21755 */display: inline-block !important;position: relative;}#sk-container-id-1 div.sk-text-repr-fallback {display: none;}</style><div id=\"sk-container-id-1\" class=\"sk-top-container\"><div class=\"sk-text-repr-fallback\"><pre>LinearRegression()</pre><b>In a Jupyter environment, please rerun this cell to show the HTML representation or trust the notebook. <br />On GitHub, the HTML representation is unable to render, please try loading this page with nbviewer.org.</b></div><div class=\"sk-container\" hidden><div class=\"sk-item\"><div class=\"sk-estimator sk-toggleable\"><input class=\"sk-toggleable__control sk-hidden--visually\" id=\"sk-estimator-id-1\" type=\"checkbox\" checked><label for=\"sk-estimator-id-1\" class=\"sk-toggleable__label sk-toggleable__label-arrow\">LinearRegression</label><div class=\"sk-toggleable__content\"><pre>LinearRegression()</pre></div></div></div></div></div>"
      ],
      "text/plain": [
       "LinearRegression()"
      ]
     },
     "execution_count": 50,
     "metadata": {},
     "output_type": "execute_result"
    }
   ],
   "source": [
    "# LINEAR REGRESSION, FOR NUMERICAL APROACHES ONLY\n",
    "lm = linear_model.LinearRegression()\n",
    "lm.fit(X_train_treated, y_train)"
   ]
  },
  {
   "cell_type": "markdown",
   "id": "cf8ec4dc",
   "metadata": {},
   "source": [
    "Model Evaluation"
   ]
  },
  {
   "cell_type": "code",
   "execution_count": 51,
   "id": "dde323f4",
   "metadata": {},
   "outputs": [
    {
     "name": "stdout",
     "output_type": "stream",
     "text": [
      "0.477578189445538\n"
     ]
    },
    {
     "data": {
      "text/plain": [
       "0.5237053900511575"
      ]
     },
     "execution_count": 51,
     "metadata": {},
     "output_type": "execute_result"
    }
   ],
   "source": [
    "# R2 Score_train\n",
    "predictions = lm.predict(X_train_treated)\n",
    "print (r2_score(y_train, predictions))\n",
    "\n",
    "# R2 Score_test\n",
    "predictions_test = lm.predict(X_test_treated)\n",
    "r2_score(y_test, predictions_test)"
   ]
  },
  {
   "cell_type": "markdown",
   "id": "47fdc29a",
   "metadata": {},
   "source": [
    "My model didn't do so good, so I'm trying out this function that checks a bunch of models at once. The goal is to see if any other models give me a better R-squared value, which basically means they might be better at predicting stuff. Just experimenting to find a better model for the regression task."
   ]
  },
  {
   "cell_type": "markdown",
   "id": "5f48fff6",
   "metadata": {},
   "source": [
    "Even so, it's worth mentioning that the model has come a long way. I started with an R-squared of 0.2, if I recall correctly."
   ]
  },
  {
   "cell_type": "markdown",
   "id": "6a457c21",
   "metadata": {},
   "source": [
    "I use ravel for a conversion warning"
   ]
  },
  {
   "cell_type": "code",
   "execution_count": 52,
   "id": "9477b51f",
   "metadata": {},
   "outputs": [
    {
     "name": "stderr",
     "output_type": "stream",
     "text": [
      "/Users/catimazzuferi/anaconda3/lib/python3.11/site-packages/sklearn/neural_network/_multilayer_perceptron.py:691: ConvergenceWarning: Stochastic Optimizer: Maximum iterations (2000) reached and the optimization hasn't converged yet.\n",
      "  warnings.warn(\n"
     ]
    },
    {
     "name": "stdout",
     "output_type": "stream",
     "text": [
      "Model: LinearRegression, R^2 Score: 0.5237\n",
      "Model: KNeighborsRegressor, R^2 Score: 0.6998\n",
      "Model: MLPRegressor, R^2 Score: 0.4671\n",
      "Model: DecisionTreeRegressor, R^2 Score: 0.3913\n",
      "Model: RandomForestRegressor, R^2 Score: 0.7598\n"
     ]
    }
   ],
   "source": [
    "# List of models to try\n",
    "models_to_try = [\n",
    "    LinearRegression(), KNeighborsRegressor(), MLPRegressor(random_state=1, max_iter=2000),\n",
    "    DecisionTreeRegressor(), RandomForestRegressor()\n",
    "]\n",
    "\n",
    "# Define a function to train and evaluate models\n",
    "def train_and_evaluate_models(models, X_train, y_train, X_test, y_test):\n",
    "    scores = []\n",
    "    for model in models:\n",
    "        model.fit(X_train, y_train.values.ravel())  # ravel() to convert y_train to a 1D array\n",
    "        y_pred = model.predict(X_test)\n",
    "        score = r2_score(y_test, y_pred)\n",
    "        scores.append(score)\n",
    "    return scores\n",
    "\n",
    "# Call the function and evaluate the models\n",
    "scores = train_and_evaluate_models(models_to_try, X_train_treated, y_train, X_test_treated, y_test)\n",
    "\n",
    "# Print the results for each model\n",
    "for model, score in zip(models_to_try, scores):\n",
    "    model_name = model.__class__.__name__\n",
    "    print(f'Model: {model_name}, R^2 Score: {score:.4f}')\n"
   ]
  },
  {
   "cell_type": "markdown",
   "id": "de9813ec",
   "metadata": {},
   "source": [
    "We can observe that the best R2 score is achieved when modeling with a random forest. Therefore, I decided to give it another try initially by setting the parameters manually. However, later on, I noticed that the optimal choice was to stick with the default values."
   ]
  },
  {
   "cell_type": "code",
   "execution_count": 53,
   "id": "8d6f0e2f",
   "metadata": {},
   "outputs": [],
   "source": [
    "# from sklearn.ensemble import RandomForestRegressor\n",
    "# from sklearn.metrics import r2_score\n",
    "\n",
    "# # Instantiate the RandomForestRegressor\n",
    "# regressor = RandomForestRegressor(\n",
    "#     max_depth=20,\n",
    "#     min_samples_split=20,\n",
    "#     min_samples_leaf=20,\n",
    "#     max_samples=0.8,\n",
    "#     random_state=42\n",
    "# )\n",
    "\n",
    "# # Fit the regressor to the training data\n",
    "# regressor.fit(X_train_treated, y_train.values.ravel())  # ravel() to convert y_train to a 1D array\n",
    "\n",
    "# # Evaluate the model\n",
    "# train_score = regressor.score(X_train_treated, y_train)\n",
    "# test_score = regressor.score(X_test_treated, y_test)\n",
    "\n",
    "# print(f'R^2 Score on Training Data: {train_score:.4f}')\n",
    "# print(f'R^2 Score on Test Data: {test_score:.4f}')"
   ]
  },
  {
   "cell_type": "code",
   "execution_count": 54,
   "id": "06787eb1",
   "metadata": {},
   "outputs": [
    {
     "name": "stdout",
     "output_type": "stream",
     "text": [
      "R^2 Score on Training Data: 0.9657\n",
      "R^2 Score on Test Data: 0.7506\n"
     ]
    }
   ],
   "source": [
    "regressor = RandomForestRegressor()\n",
    "regressor.fit(X_train_treated, y_train.values.ravel())  # ravel() to convert y_train to a 1D array\n",
    "\n",
    "# Evaluate the model\n",
    "train_score = regressor.score(X_train_treated, y_train)\n",
    "test_score = regressor.score(X_test_treated, y_test)\n",
    "\n",
    "print(f'R^2 Score on Training Data: {train_score:.4f}')\n",
    "print(f'R^2 Score on Test Data: {test_score:.4f}')"
   ]
  },
  {
   "cell_type": "markdown",
   "id": "80cacd1b",
   "metadata": {},
   "source": [
    "# Save the Model and Transformers"
   ]
  },
  {
   "cell_type": "code",
   "execution_count": 55,
   "id": "7256e071",
   "metadata": {},
   "outputs": [],
   "source": [
    "#Save the model RandomForestRegressor\n",
    "regressor = RandomForestRegressor()\n",
    "regressor.fit(X_train_treated, y_train.values.ravel())\n",
    "with open('random_forest_regressor.pkl', 'wb') as f:\n",
    "    pickle.dump(regressor, f)\n",
    "\n",
    "# Save the encoder OneHotEncoder\n",
    "encoder = OneHotEncoder(drop='first').fit(X_train_cat)\n",
    "with open('one_hot_encoder.pkl', 'wb') as f:\n",
    "    pickle.dump(encoder, f)\n",
    "\n",
    "# Save the transformador MinMaxScaler\n",
    "transformer = MinMaxScaler().fit(X_train_num)\n",
    "with open('min_max_scaler.pkl', 'wb') as f:\n",
    "    pickle.dump(transformer, f)\n"
   ]
  },
  {
   "cell_type": "code",
   "execution_count": 56,
   "id": "34ce9571",
   "metadata": {},
   "outputs": [
    {
     "data": {
      "text/html": [
       "<div>\n",
       "<style scoped>\n",
       "    .dataframe tbody tr th:only-of-type {\n",
       "        vertical-align: middle;\n",
       "    }\n",
       "\n",
       "    .dataframe tbody tr th {\n",
       "        vertical-align: top;\n",
       "    }\n",
       "\n",
       "    .dataframe thead th {\n",
       "        text-align: right;\n",
       "    }\n",
       "</style>\n",
       "<table border=\"1\" class=\"dataframe\">\n",
       "  <thead>\n",
       "    <tr style=\"text-align: right;\">\n",
       "      <th></th>\n",
       "      <th>price</th>\n",
       "      <th>beds</th>\n",
       "      <th>baths</th>\n",
       "      <th>living_space</th>\n",
       "      <th>zip_code_population</th>\n",
       "      <th>zip_code_density</th>\n",
       "      <th>median_household_income</th>\n",
       "      <th>latitude</th>\n",
       "      <th>longitude</th>\n",
       "    </tr>\n",
       "  </thead>\n",
       "  <tbody>\n",
       "    <tr>\n",
       "      <th>count</th>\n",
       "      <td>3.895500e+04</td>\n",
       "      <td>38955.000000</td>\n",
       "      <td>38955.000000</td>\n",
       "      <td>38955.000000</td>\n",
       "      <td>38955.000000</td>\n",
       "      <td>38955.000000</td>\n",
       "      <td>38955.000000</td>\n",
       "      <td>38955.000000</td>\n",
       "      <td>38955.000000</td>\n",
       "    </tr>\n",
       "    <tr>\n",
       "      <th>mean</th>\n",
       "      <td>6.170208e+05</td>\n",
       "      <td>3.149275</td>\n",
       "      <td>2.443127</td>\n",
       "      <td>1884.257682</td>\n",
       "      <td>37689.117212</td>\n",
       "      <td>2364.380334</td>\n",
       "      <td>110804.956719</td>\n",
       "      <td>36.446977</td>\n",
       "      <td>-98.037087</td>\n",
       "    </tr>\n",
       "    <tr>\n",
       "      <th>std</th>\n",
       "      <td>9.256275e+05</td>\n",
       "      <td>1.093312</td>\n",
       "      <td>1.120331</td>\n",
       "      <td>1043.650257</td>\n",
       "      <td>18629.456797</td>\n",
       "      <td>2929.435475</td>\n",
       "      <td>47288.117408</td>\n",
       "      <td>4.450687</td>\n",
       "      <td>15.018486</td>\n",
       "    </tr>\n",
       "    <tr>\n",
       "      <th>min</th>\n",
       "      <td>1.800000e+03</td>\n",
       "      <td>1.000000</td>\n",
       "      <td>1.000000</td>\n",
       "      <td>2.000000</td>\n",
       "      <td>39.000000</td>\n",
       "      <td>0.600000</td>\n",
       "      <td>27475.000000</td>\n",
       "      <td>25.729830</td>\n",
       "      <td>-122.826870</td>\n",
       "    </tr>\n",
       "    <tr>\n",
       "      <th>25%</th>\n",
       "      <td>2.649000e+05</td>\n",
       "      <td>3.000000</td>\n",
       "      <td>2.000000</td>\n",
       "      <td>1200.000000</td>\n",
       "      <td>24440.000000</td>\n",
       "      <td>895.400000</td>\n",
       "      <td>76640.000000</td>\n",
       "      <td>32.996870</td>\n",
       "      <td>-111.634760</td>\n",
       "    </tr>\n",
       "    <tr>\n",
       "      <th>50%</th>\n",
       "      <td>3.999000e+05</td>\n",
       "      <td>3.000000</td>\n",
       "      <td>2.000000</td>\n",
       "      <td>1637.000000</td>\n",
       "      <td>35083.000000</td>\n",
       "      <td>1578.200000</td>\n",
       "      <td>100405.000000</td>\n",
       "      <td>36.167890</td>\n",
       "      <td>-96.839430</td>\n",
       "    </tr>\n",
       "    <tr>\n",
       "      <th>75%</th>\n",
       "      <td>6.650000e+05</td>\n",
       "      <td>4.000000</td>\n",
       "      <td>3.000000</td>\n",
       "      <td>2262.000000</td>\n",
       "      <td>46816.000000</td>\n",
       "      <td>2720.400000</td>\n",
       "      <td>135075.000000</td>\n",
       "      <td>39.284210</td>\n",
       "      <td>-85.715710</td>\n",
       "    </tr>\n",
       "    <tr>\n",
       "      <th>max</th>\n",
       "      <td>3.200000e+07</td>\n",
       "      <td>12.000000</td>\n",
       "      <td>10.000000</td>\n",
       "      <td>16250.000000</td>\n",
       "      <td>116469.000000</td>\n",
       "      <td>58289.600000</td>\n",
       "      <td>900203.000000</td>\n",
       "      <td>47.742370</td>\n",
       "      <td>-73.704510</td>\n",
       "    </tr>\n",
       "  </tbody>\n",
       "</table>\n",
       "</div>"
      ],
      "text/plain": [
       "              price          beds         baths  living_space  \\\n",
       "count  3.895500e+04  38955.000000  38955.000000  38955.000000   \n",
       "mean   6.170208e+05      3.149275      2.443127   1884.257682   \n",
       "std    9.256275e+05      1.093312      1.120331   1043.650257   \n",
       "min    1.800000e+03      1.000000      1.000000      2.000000   \n",
       "25%    2.649000e+05      3.000000      2.000000   1200.000000   \n",
       "50%    3.999000e+05      3.000000      2.000000   1637.000000   \n",
       "75%    6.650000e+05      4.000000      3.000000   2262.000000   \n",
       "max    3.200000e+07     12.000000     10.000000  16250.000000   \n",
       "\n",
       "       zip_code_population  zip_code_density  median_household_income  \\\n",
       "count         38955.000000      38955.000000             38955.000000   \n",
       "mean          37689.117212       2364.380334            110804.956719   \n",
       "std           18629.456797       2929.435475             47288.117408   \n",
       "min              39.000000          0.600000             27475.000000   \n",
       "25%           24440.000000        895.400000             76640.000000   \n",
       "50%           35083.000000       1578.200000            100405.000000   \n",
       "75%           46816.000000       2720.400000            135075.000000   \n",
       "max          116469.000000      58289.600000            900203.000000   \n",
       "\n",
       "           latitude     longitude  \n",
       "count  38955.000000  38955.000000  \n",
       "mean      36.446977    -98.037087  \n",
       "std        4.450687     15.018486  \n",
       "min       25.729830   -122.826870  \n",
       "25%       32.996870   -111.634760  \n",
       "50%       36.167890    -96.839430  \n",
       "75%       39.284210    -85.715710  \n",
       "max       47.742370    -73.704510  "
      ]
     },
     "execution_count": 56,
     "metadata": {},
     "output_type": "execute_result"
    }
   ],
   "source": [
    "data.describe()"
   ]
  },
  {
   "cell_type": "code",
   "execution_count": 57,
   "id": "8f2ec8ff",
   "metadata": {},
   "outputs": [],
   "source": [
    "# import pandas as pd\n",
    "\n",
    "# def clean_and_save_data(input_file, output_file):\n",
    "#     # Leer el archivo CSV\n",
    "#     data = pd.read_csv(input_file)\n",
    "    \n",
    "#     # Eliminar filas con valores nulos\n",
    "#     data = data.dropna()\n",
    "\n",
    "#     # Convertir nombres de columnas a minúsculas y reemplazar espacios por guiones bajos\n",
    "#     data.columns = data.columns.str.lower().str.replace(' ', '_')\n",
    "\n",
    "#     # Eliminar duplicados\n",
    "#     data = data.drop_duplicates().reset_index(drop=True)\n",
    "\n",
    "#     # Filtrar códigos postales y ciudades\n",
    "#     top_10_zip_codes = data['zip_code'].value_counts().head(10).index\n",
    "#     data['zip_code'] = data['zip_code'].apply(lambda x: x if x in top_10_zip_codes else 'Other')\n",
    "\n",
    "#     top_10_cities = data['city'].value_counts().head(10).index\n",
    "#     data['city'] = data['city'].apply(lambda x: x if x in top_10_cities else 'Other')\n",
    "\n",
    "#     # Guardar el conjunto de datos transformado\n",
    "#     data.to_csv(output_file, index=False)\n",
    "\n",
    "#     return data\n",
    "\n",
    "# # Llamada a la función\n",
    "# input_filename = 'Data.csv'\n",
    "# output_filename = 'Cleaned_Data.csv'\n",
    "# cleaned_data = clean_and_save_data(input_filename, output_filename)\n"
   ]
  },
  {
   "cell_type": "markdown",
   "id": "6dbba9c9",
   "metadata": {},
   "source": [
    "# Web Scraping"
   ]
  },
  {
   "cell_type": "code",
   "execution_count": 58,
   "id": "5bbeb013",
   "metadata": {},
   "outputs": [
    {
     "data": {
      "text/html": [
       "<div>\n",
       "<style scoped>\n",
       "    .dataframe tbody tr th:only-of-type {\n",
       "        vertical-align: middle;\n",
       "    }\n",
       "\n",
       "    .dataframe tbody tr th {\n",
       "        vertical-align: top;\n",
       "    }\n",
       "\n",
       "    .dataframe thead th {\n",
       "        text-align: right;\n",
       "    }\n",
       "</style>\n",
       "<table border=\"1\" class=\"dataframe\">\n",
       "  <thead>\n",
       "    <tr style=\"text-align: right;\">\n",
       "      <th></th>\n",
       "      <th>zip_code</th>\n",
       "      <th>price</th>\n",
       "      <th>beds</th>\n",
       "      <th>baths</th>\n",
       "      <th>living_space</th>\n",
       "      <th>address</th>\n",
       "      <th>city</th>\n",
       "      <th>state</th>\n",
       "      <th>zip_code_population</th>\n",
       "      <th>zip_code_density</th>\n",
       "      <th>county</th>\n",
       "      <th>median_household_income</th>\n",
       "      <th>latitude</th>\n",
       "      <th>longitude</th>\n",
       "      <th>street_view_link</th>\n",
       "    </tr>\n",
       "  </thead>\n",
       "  <tbody>\n",
       "    <tr>\n",
       "      <th>0</th>\n",
       "      <td>Other</td>\n",
       "      <td>3999000.0</td>\n",
       "      <td>2</td>\n",
       "      <td>3</td>\n",
       "      <td>1967</td>\n",
       "      <td>74 GRAND ST APT 3</td>\n",
       "      <td>Other</td>\n",
       "      <td>New York</td>\n",
       "      <td>29563</td>\n",
       "      <td>20967.9</td>\n",
       "      <td>New York</td>\n",
       "      <td>370046.0</td>\n",
       "      <td>40.72001</td>\n",
       "      <td>-74.00472</td>\n",
       "      <td>https://www.google.com/maps?q&amp;layer=c&amp;cbll=40....</td>\n",
       "    </tr>\n",
       "    <tr>\n",
       "      <th>1</th>\n",
       "      <td>Other</td>\n",
       "      <td>1650000.0</td>\n",
       "      <td>1</td>\n",
       "      <td>1</td>\n",
       "      <td>718</td>\n",
       "      <td>140 CHARLES ST APT 4D</td>\n",
       "      <td>Other</td>\n",
       "      <td>New York</td>\n",
       "      <td>29815</td>\n",
       "      <td>23740.9</td>\n",
       "      <td>New York</td>\n",
       "      <td>249880.0</td>\n",
       "      <td>40.73407</td>\n",
       "      <td>-74.00601</td>\n",
       "      <td>https://www.google.com/maps?q&amp;layer=c&amp;cbll=40....</td>\n",
       "    </tr>\n",
       "    <tr>\n",
       "      <th>2</th>\n",
       "      <td>Other</td>\n",
       "      <td>760000.0</td>\n",
       "      <td>3</td>\n",
       "      <td>2</td>\n",
       "      <td>1538</td>\n",
       "      <td>38 JONES ST</td>\n",
       "      <td>Other</td>\n",
       "      <td>New York</td>\n",
       "      <td>29815</td>\n",
       "      <td>23740.9</td>\n",
       "      <td>New York</td>\n",
       "      <td>249880.0</td>\n",
       "      <td>40.73407</td>\n",
       "      <td>-74.00601</td>\n",
       "      <td>https://www.google.com/maps?q&amp;layer=c&amp;cbll=40....</td>\n",
       "    </tr>\n",
       "    <tr>\n",
       "      <th>3</th>\n",
       "      <td>Other</td>\n",
       "      <td>1100000.0</td>\n",
       "      <td>1</td>\n",
       "      <td>1</td>\n",
       "      <td>600</td>\n",
       "      <td>81 BEDFORD ST APT 3F</td>\n",
       "      <td>Other</td>\n",
       "      <td>New York</td>\n",
       "      <td>29815</td>\n",
       "      <td>23740.9</td>\n",
       "      <td>New York</td>\n",
       "      <td>249880.0</td>\n",
       "      <td>40.73407</td>\n",
       "      <td>-74.00601</td>\n",
       "      <td>https://www.google.com/maps?q&amp;layer=c&amp;cbll=40....</td>\n",
       "    </tr>\n",
       "    <tr>\n",
       "      <th>4</th>\n",
       "      <td>Other</td>\n",
       "      <td>764900.0</td>\n",
       "      <td>1</td>\n",
       "      <td>1</td>\n",
       "      <td>643</td>\n",
       "      <td>145 E 48TH ST APT 11E</td>\n",
       "      <td>Other</td>\n",
       "      <td>New York</td>\n",
       "      <td>15514</td>\n",
       "      <td>20107.7</td>\n",
       "      <td>New York</td>\n",
       "      <td>188289.0</td>\n",
       "      <td>40.75235</td>\n",
       "      <td>-73.97260</td>\n",
       "      <td>https://www.google.com/maps?q&amp;layer=c&amp;cbll=40....</td>\n",
       "    </tr>\n",
       "    <tr>\n",
       "      <th>...</th>\n",
       "      <td>...</td>\n",
       "      <td>...</td>\n",
       "      <td>...</td>\n",
       "      <td>...</td>\n",
       "      <td>...</td>\n",
       "      <td>...</td>\n",
       "      <td>...</td>\n",
       "      <td>...</td>\n",
       "      <td>...</td>\n",
       "      <td>...</td>\n",
       "      <td>...</td>\n",
       "      <td>...</td>\n",
       "      <td>...</td>\n",
       "      <td>...</td>\n",
       "      <td>...</td>\n",
       "    </tr>\n",
       "    <tr>\n",
       "      <th>38950</th>\n",
       "      <td>Other</td>\n",
       "      <td>2495000.0</td>\n",
       "      <td>4</td>\n",
       "      <td>4</td>\n",
       "      <td>3380</td>\n",
       "      <td>2626 27TH AVE W</td>\n",
       "      <td>Other</td>\n",
       "      <td>Washington</td>\n",
       "      <td>22890</td>\n",
       "      <td>2086.8</td>\n",
       "      <td>King</td>\n",
       "      <td>205611.0</td>\n",
       "      <td>47.65139</td>\n",
       "      <td>-122.40223</td>\n",
       "      <td>https://www.google.com/maps?q&amp;layer=c&amp;cbll=47....</td>\n",
       "    </tr>\n",
       "    <tr>\n",
       "      <th>38951</th>\n",
       "      <td>Other</td>\n",
       "      <td>2295000.0</td>\n",
       "      <td>4</td>\n",
       "      <td>4</td>\n",
       "      <td>2878</td>\n",
       "      <td>3215 32ND AVE W</td>\n",
       "      <td>Other</td>\n",
       "      <td>Washington</td>\n",
       "      <td>22890</td>\n",
       "      <td>2086.8</td>\n",
       "      <td>King</td>\n",
       "      <td>205611.0</td>\n",
       "      <td>47.65139</td>\n",
       "      <td>-122.40223</td>\n",
       "      <td>https://www.google.com/maps?q&amp;layer=c&amp;cbll=47....</td>\n",
       "    </tr>\n",
       "    <tr>\n",
       "      <th>38952</th>\n",
       "      <td>Other</td>\n",
       "      <td>950000.0</td>\n",
       "      <td>3</td>\n",
       "      <td>2</td>\n",
       "      <td>1380</td>\n",
       "      <td>3257 22ND AVE W</td>\n",
       "      <td>Other</td>\n",
       "      <td>Washington</td>\n",
       "      <td>22890</td>\n",
       "      <td>2086.8</td>\n",
       "      <td>King</td>\n",
       "      <td>205611.0</td>\n",
       "      <td>47.65139</td>\n",
       "      <td>-122.40223</td>\n",
       "      <td>https://www.google.com/maps?q&amp;layer=c&amp;cbll=47....</td>\n",
       "    </tr>\n",
       "    <tr>\n",
       "      <th>38953</th>\n",
       "      <td>Other</td>\n",
       "      <td>425000.0</td>\n",
       "      <td>2</td>\n",
       "      <td>1</td>\n",
       "      <td>856</td>\n",
       "      <td>3711 26TH PL W APT 102</td>\n",
       "      <td>Other</td>\n",
       "      <td>Washington</td>\n",
       "      <td>22890</td>\n",
       "      <td>2086.8</td>\n",
       "      <td>King</td>\n",
       "      <td>205611.0</td>\n",
       "      <td>47.65139</td>\n",
       "      <td>-122.40223</td>\n",
       "      <td>https://www.google.com/maps?q&amp;layer=c&amp;cbll=47....</td>\n",
       "    </tr>\n",
       "    <tr>\n",
       "      <th>38954</th>\n",
       "      <td>Other</td>\n",
       "      <td>1150000.0</td>\n",
       "      <td>3</td>\n",
       "      <td>3</td>\n",
       "      <td>2840</td>\n",
       "      <td>2911 25TH AVE W</td>\n",
       "      <td>Other</td>\n",
       "      <td>Washington</td>\n",
       "      <td>22890</td>\n",
       "      <td>2086.8</td>\n",
       "      <td>King</td>\n",
       "      <td>205611.0</td>\n",
       "      <td>47.65139</td>\n",
       "      <td>-122.40223</td>\n",
       "      <td>https://www.google.com/maps?q&amp;layer=c&amp;cbll=47....</td>\n",
       "    </tr>\n",
       "  </tbody>\n",
       "</table>\n",
       "<p>38955 rows × 15 columns</p>\n",
       "</div>"
      ],
      "text/plain": [
       "      zip_code      price  beds  baths  living_space                 address  \\\n",
       "0        Other  3999000.0     2      3          1967       74 GRAND ST APT 3   \n",
       "1        Other  1650000.0     1      1           718   140 CHARLES ST APT 4D   \n",
       "2        Other   760000.0     3      2          1538             38 JONES ST   \n",
       "3        Other  1100000.0     1      1           600    81 BEDFORD ST APT 3F   \n",
       "4        Other   764900.0     1      1           643   145 E 48TH ST APT 11E   \n",
       "...        ...        ...   ...    ...           ...                     ...   \n",
       "38950    Other  2495000.0     4      4          3380         2626 27TH AVE W   \n",
       "38951    Other  2295000.0     4      4          2878         3215 32ND AVE W   \n",
       "38952    Other   950000.0     3      2          1380         3257 22ND AVE W   \n",
       "38953    Other   425000.0     2      1           856  3711 26TH PL W APT 102   \n",
       "38954    Other  1150000.0     3      3          2840         2911 25TH AVE W   \n",
       "\n",
       "        city       state  zip_code_population  zip_code_density    county  \\\n",
       "0      Other    New York                29563           20967.9  New York   \n",
       "1      Other    New York                29815           23740.9  New York   \n",
       "2      Other    New York                29815           23740.9  New York   \n",
       "3      Other    New York                29815           23740.9  New York   \n",
       "4      Other    New York                15514           20107.7  New York   \n",
       "...      ...         ...                  ...               ...       ...   \n",
       "38950  Other  Washington                22890            2086.8      King   \n",
       "38951  Other  Washington                22890            2086.8      King   \n",
       "38952  Other  Washington                22890            2086.8      King   \n",
       "38953  Other  Washington                22890            2086.8      King   \n",
       "38954  Other  Washington                22890            2086.8      King   \n",
       "\n",
       "       median_household_income  latitude  longitude  \\\n",
       "0                     370046.0  40.72001  -74.00472   \n",
       "1                     249880.0  40.73407  -74.00601   \n",
       "2                     249880.0  40.73407  -74.00601   \n",
       "3                     249880.0  40.73407  -74.00601   \n",
       "4                     188289.0  40.75235  -73.97260   \n",
       "...                        ...       ...        ...   \n",
       "38950                 205611.0  47.65139 -122.40223   \n",
       "38951                 205611.0  47.65139 -122.40223   \n",
       "38952                 205611.0  47.65139 -122.40223   \n",
       "38953                 205611.0  47.65139 -122.40223   \n",
       "38954                 205611.0  47.65139 -122.40223   \n",
       "\n",
       "                                        street_view_link  \n",
       "0      https://www.google.com/maps?q&layer=c&cbll=40....  \n",
       "1      https://www.google.com/maps?q&layer=c&cbll=40....  \n",
       "2      https://www.google.com/maps?q&layer=c&cbll=40....  \n",
       "3      https://www.google.com/maps?q&layer=c&cbll=40....  \n",
       "4      https://www.google.com/maps?q&layer=c&cbll=40....  \n",
       "...                                                  ...  \n",
       "38950  https://www.google.com/maps?q&layer=c&cbll=47....  \n",
       "38951  https://www.google.com/maps?q&layer=c&cbll=47....  \n",
       "38952  https://www.google.com/maps?q&layer=c&cbll=47....  \n",
       "38953  https://www.google.com/maps?q&layer=c&cbll=47....  \n",
       "38954  https://www.google.com/maps?q&layer=c&cbll=47....  \n",
       "\n",
       "[38955 rows x 15 columns]"
      ]
     },
     "execution_count": 58,
     "metadata": {},
     "output_type": "execute_result"
    }
   ],
   "source": [
    "data['street_view_link'] = ''\n",
    "\n",
    "# For pass for all the rows\n",
    "for index, row in data.iterrows():\n",
    "# I choose to grab the lat and long because it was to slow with the address\n",
    "    latitude = row['latitude']\n",
    "    longitude = row['longitude']\n",
    "# This is to made a link\n",
    "    street_view_link = f\"https://www.google.com/maps?q&layer=c&cbll={latitude},{longitude}\"\n",
    "# Create a new column\n",
    "    data.at[index, 'street_view_link'] = street_view_link\n",
    "data\n"
   ]
  },
  {
   "cell_type": "markdown",
   "id": "7ea311d4",
   "metadata": {},
   "source": [
    "This web scraping its taking to much time to charge"
   ]
  },
  {
   "cell_type": "code",
   "execution_count": 59,
   "id": "7d0647ee",
   "metadata": {},
   "outputs": [],
   "source": [
    "# import requests\n",
    "# from bs4 import BeautifulSoup\n",
    "\n",
    "# addresses = data['address']\n",
    "\n",
    "# def get_street_view_link(address):\n",
    "#     # Construir la URL de búsqueda en Google Maps\n",
    "#     search_url = f\"https://www.google.com/maps/search/{address.replace(' ', '+')}\"\n",
    "\n",
    "#     # Realizar la solicitud HTTP y obtener el contenido de la página\n",
    "#     response = requests.get(search_url)\n",
    "#     html_content = response.text\n",
    "\n",
    "#     # Analizar el contenido HTML con BeautifulSoup\n",
    "#     soup = BeautifulSoup(html_content, 'html.parser')\n",
    "\n",
    "#     # Buscar el enlace de Street View en la página\n",
    "#     street_view_link = soup.find('a', {'href': lambda x: x and 'streetview' in x.lower()})\n",
    "\n",
    "#     if street_view_link:\n",
    "#         return street_view_link['href']\n",
    "#     else:\n",
    "#         return \"Street View no disponible\"\n",
    "\n",
    "# # Crear una nueva columna 'Street View Link' en el DataFrame\n",
    "# data['street_view_link'] = addresses.apply(get_street_view_link)\n",
    "\n",
    "# # Mostrar el DataFrame con la nueva columna\n",
    "# print(data[['address', 'street_view_link']])\n"
   ]
  },
  {
   "cell_type": "markdown",
   "id": "b6b0017c",
   "metadata": {},
   "source": [
    "# Save the data"
   ]
  },
  {
   "cell_type": "code",
   "execution_count": 60,
   "id": "d262f418",
   "metadata": {},
   "outputs": [],
   "source": [
    "data.to_csv('databasic.csv', index=False)"
   ]
  },
  {
   "cell_type": "markdown",
   "id": "165c35c4",
   "metadata": {},
   "source": [
    "# Streamlit"
   ]
  },
  {
   "cell_type": "markdown",
   "id": "22025813",
   "metadata": {},
   "source": [
    "I wanted to see if there was any possibility of predicting with only 3 inputs from my user out of 8 features. I think I was close, trying to use different types of values, but still couldn't achieve it."
   ]
  },
  {
   "cell_type": "code",
   "execution_count": 61,
   "id": "ec07489d",
   "metadata": {},
   "outputs": [],
   "source": [
    "# import os\n",
    "# import streamlit as st\n",
    "# import pandas as pd\n",
    "# import pickle\n",
    "# import requests\n",
    "# from bs4 import BeautifulSoup\n",
    "# from sklearn.ensemble import RandomForestRegressor\n",
    "# from sklearn.preprocessing import MinMaxScaler, OneHotEncoder\n",
    "# import numpy as np\n",
    "\n",
    "# # Obtener el directorio del script\n",
    "# script_directory = os.path.dirname(os.path.abspath(__file__))\n",
    "\n",
    "# # Cargar el modelo RandomForestRegressor\n",
    "# with open(os.path.join(script_directory, 'Final_Project', 'random_forest_regressor.pkl'), 'rb') as f:\n",
    "#     regressor = pickle.load(f)\n",
    "\n",
    "# # Cargar el transformador MinMaxScaler\n",
    "# with open(os.path.join(script_directory, 'Final_Project', 'min_max_scaler.pkl'), 'rb') as f:\n",
    "#     transformer = pickle.load(f)\n",
    "\n",
    "# # Cargar el encoder OneHotEncoder\n",
    "# with open(os.path.join(script_directory, 'Final_Project', 'one_hot_encoder.pkl'), 'rb') as f:\n",
    "#     encoder = pickle.load(f)\n",
    "\n",
    "# # Cargar el conjunto de datos (dataframe) para extraer información\n",
    "# # sobre la dirección y el enlace de Street View\n",
    "# data = pd.read_csv(os.path.join(script_directory, 'Final_Project', 'databasic.csv'))\n",
    "\n",
    "# # Streamlit app\n",
    "# st.title('Welcome to the Price Prediction App')\n",
    "\n",
    "# # Sidebar menu for predictions\n",
    "# st.sidebar.title('Prediction Menu')\n",
    "\n",
    "# # User input for prediction\n",
    "# baths = st.sidebar.slider('Select baths:', min_value=1, max_value=66, value=3)\n",
    "# beds = st.sidebar.slider('Select beds:', min_value=1, max_value=54, value=3)\n",
    "# living_space = st.sidebar.slider('Select living_space (sqft):', min_value=2, max_value=74340, value=2000)\n",
    "\n",
    "# # Tomar todos los valores únicos de ciertas columnas, incluido zip_code\n",
    "# unique_zip_codes = data['zip_code'].unique().tolist()\n",
    "# unique_states = data['state'].unique().tolist()\n",
    "# unique_median_household_income = data['median_household_income'].unique().tolist()\n",
    "# unique_latitude = data['latitude'].unique().tolist()\n",
    "# unique_longitude = data['longitude'].unique().tolist()\n",
    "\n",
    "# # Encuentra la longitud máxima\n",
    "# max_length = max(len(unique_zip_codes), len(unique_states), len(unique_median_household_income), len(unique_latitude), len(unique_longitude))\n",
    "\n",
    "# # Asegúrate de que todas las listas tengan la misma longitud\n",
    "# unique_zip_codes += [''] * (max_length - len(unique_zip_codes))\n",
    "# unique_states += [''] * (max_length - len(unique_states))\n",
    "# unique_median_household_income += [0] * (max_length - len(unique_median_household_income))\n",
    "# unique_latitude += [0.0] * (max_length - len(unique_latitude))\n",
    "# unique_longitude += [0.0] * (max_length - len(unique_longitude))\n",
    "\n",
    "# # Use valores específicos y valores únicos para crear el DataFrame\n",
    "# input_data = pd.DataFrame({\n",
    "#     'zip_code': unique_zip_codes,  # Cambiado para incluir todos los valores únicos de zip_code\n",
    "#     'beds': beds,\n",
    "#     'baths': baths,\n",
    "#     'living_space': living_space,\n",
    "#     'state': unique_states,\n",
    "#     'median_household_income': unique_median_household_income,\n",
    "#     'latitude': unique_latitude,\n",
    "#     'longitude': unique_longitude\n",
    "# })\n",
    "\n",
    "# # Limpiar categorías desconocidas ('')\n",
    "# input_data['zip_code'].replace('', np.nan, inplace=True)\n",
    "# input_data.dropna(subset=['zip_code'], inplace=True)\n",
    "\n",
    "# # Ensure 'zip_code' and 'state' are strings (as they were one-hot encoded during training)\n",
    "# input_data['zip_code'] = input_data['zip_code'].astype(str)\n",
    "# input_data['state'] = input_data['state'].astype(str)\n",
    "\n",
    "# # Ensure the order of columns in input_data matches the order during training\n",
    "# input_data = input_data[['zip_code', 'beds', 'baths', 'living_space', 'state', 'median_household_income', 'latitude', 'longitude']]\n",
    "\n",
    "# # Scale numerical features using the same MinMaxScaler\n",
    "# scaled_numerical_features = transformer.transform(input_data[['beds', 'baths', 'living_space', 'median_household_income', 'latitude', 'longitude']])\n",
    "\n",
    "# # One-hot encode categorical features\n",
    "# try:\n",
    "#     encoded_input = encoder.transform(input_data[['zip_code', 'state']]).toarray()\n",
    "# except ValueError as e:\n",
    "#     # Handle unknown categories by ignoring them or using a default value\n",
    "#     st.warning(f\"ValueError: {e}. Handling unknown categories.\")\n",
    "#     input_data['zip_code'] = encoder.transform(input_data['zip_code'].astype(str).values.reshape(-1, 1)).toarray()\n",
    "#     encoded_input = encoder.transform(input_data[['zip_code', 'state']]).toarray()\n",
    "\n",
    "# # Combine numerical and encoded features\n",
    "# final_input = np.concatenate([scaled_numerical_features, encoded_input], axis=1)\n",
    "\n",
    "# # Make predictions\n",
    "# predicted_price = regressor.predict(final_input)[0]\n",
    "\n",
    "# # Display predicted price\n",
    "# st.sidebar.subheader(f'Estimated price for {input_data[\"state\"].iloc[0]}:')\n",
    "# st.sidebar.write(f'${predicted_price:,.2f}')\n",
    "\n",
    "# # Find similar listings in the dataset\n",
    "# similar_listings = data[\n",
    "#     (data['state'] == input_data['state'].iloc[0]) &\n",
    "#     (data['beds'] == beds) &\n",
    "#     (data['baths'] == baths) &\n",
    "#     (data['living_space'] == living_space) &\n",
    "#     (data['price'].between(predicted_price - 100000, predicted_price + 100000))\n",
    "# ].head(5)\n",
    "\n",
    "# # Web scraping to get address and Street View link for each similar listing\n",
    "# for _, similar_listing in similar_listings.iterrows():\n",
    "#     address = similar_listing['address']\n",
    "#     latitude = similar_listing['latitude']\n",
    "#     longitude = similar_listing['longitude']\n",
    "\n",
    "#     # Web scraping to get Street View link\n",
    "#     search_url = f'https://www.google.com/maps?q={latitude},{longitude}'\n",
    "#     response = requests.get(search_url)\n",
    "\n",
    "#     if response.status_code == 200:\n",
    "#         soup = BeautifulSoup(response.text, 'html.parser')\n",
    "#         street_view_container = soup.find('a', class_='widget-reveal-card')\n",
    "#         street_view_link = street_view_container['href'] if street_view_container else 'No Street View link found'\n",
    "#     else:\n",
    "#         street_view_link = 'Error retrieving Street View link'\n",
    "\n",
    "#     # Display information for each similar listing\n",
    "#     st.sidebar.subheader(f'Similar Listing Information:')\n",
    "#     st.sidebar.write(f'Address: {address}')\n",
    "#     st.sidebar.write(f'Latitude: {latitude}')\n",
    "#     st.sidebar.write(f'Longitude: {longitude}')\n",
    "#     st.sidebar.write(f'Street View Link: {street_view_link}')\n",
    "#     st.sidebar.write('---')\n",
    "\n"
   ]
  }
 ],
 "metadata": {
  "kernelspec": {
   "display_name": "Python 3 (ipykernel)",
   "language": "python",
   "name": "python3"
  },
  "language_info": {
   "codemirror_mode": {
    "name": "ipython",
    "version": 3
   },
   "file_extension": ".py",
   "mimetype": "text/x-python",
   "name": "python",
   "nbconvert_exporter": "python",
   "pygments_lexer": "ipython3",
   "version": "3.11.4"
  }
 },
 "nbformat": 4,
 "nbformat_minor": 5
}
